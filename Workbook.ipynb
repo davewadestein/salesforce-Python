{
 "cells": [
  {
   "cell_type": "markdown",
   "id": "31151d05-378d-463e-b946-259fb142430f",
   "metadata": {},
   "source": [
    "# Important Things about Programming\n",
    "* pick good variable names\n",
    "  * the name of a variable should \"telegraph\" what's inside it\n",
    "  * e.g., __`count`__, __`amount`__, __`quantity`__ (bad names might be c, a, qty)\n",
    "  * e.g., __`cost_per_ounce`__ (better than __`cpo`__)\n",
    "* “Programs must be written for people to read, and only incidentally for machines to execute.” -Hal Abelson\n",
    "  * your code tells a story, so tell a good one\n",
    "* Eagleson's Law: \"Any code you wrote more than 6 month ago, might as well have been written by someone else.\"\n",
    "* You read code 10x than you write code...code reading is an important skill\n",
    "* Two ways to get better at programming\n",
    "  * write the code a different way (it might be better, it might be worse)\n",
    "  * add more features to existing code\n",
    "* The 3 banes of existence of programmers...\n",
    "  * uninitialized / improperly initialized variables\n",
    "  * off by one errors"
   ]
  },
  {
   "cell_type": "markdown",
   "id": "0ed565ad-cc49-4306-a5d5-e4ca3cb4b519",
   "metadata": {},
   "source": [
    "# Important Things About Python\n",
    "* scalar vs. container\n",
    "  * scalar = single value or an object that hold exactly one value (e.g., int, float, bool)\n",
    "  * container = object that can hold 0+ things (e.g., str,\n",
    "* mutable vs. immutable container\n",
    "  * immutable: str\n",
    "* builtin functions\n",
    "  * they are general, in that they can often accept many different types\n",
    "    * e.g., __`print()`__ can accept any type of argument, any amount of them\n",
    "    * e.g., __`max/min()`__ can accept any amount of arguments, certain types that can be compared (int, float, str)\n",
    "    * e.g., __`type()`__ can accept an object of any type\n",
    "  * they DO NOT change the arguments that are passed to them\n",
    "    * e.g, __`print(x)`__ does not in any way change __`x`__\n",
    "    * e.g, __`str(x)`__ does not change __`x`__ (but rather, generates a string version of x)\n",
    "* if you want to change an object, you must call/invoke/apply a method on/to that object\n",
    "  * not all methods change the objects they are called on/invoked on/apply to"
   ]
  },
  {
   "cell_type": "markdown",
   "id": "03d261e6-68a1-47cc-97a5-2ec5cd65b62e",
   "metadata": {},
   "source": [
    "# Pythonic\n",
    "* Rick: \"I'm a Java programmer and I've been tinkering with Python, but my Python looks like Java\"\n",
    "* writing your code in such a way that other Python programmers expect to see it\n",
    "  * using idioms and other constructs in familar ways\n",
    "* examples:\n",
    "  * __`container[-1]`__ always means the last item in the container\n",
    "  * __`container[-n]`__ always means the nth from the last ...\n",
    "  * __`container[:n]`__ always means the first n items ...\n",
    "  * __`container[-n:]`__ always means the last n items ...\n",
    "* if an object is difficult to work with, consider changing its type to something easier to work with\n",
    "  * e.g., int => str"
   ]
  },
  {
   "cell_type": "code",
   "execution_count": 1,
   "id": "19c4de9a-083d-4790-a752-2da8c67e81c5",
   "metadata": {},
   "outputs": [],
   "source": [
    "count = 1"
   ]
  },
  {
   "cell_type": "code",
   "execution_count": 2,
   "id": "43d68c09-5c02-4f2f-9322-b7e16af5be9d",
   "metadata": {},
   "outputs": [
    {
     "data": {
      "text/plain": [
       "4389429832"
      ]
     },
     "execution_count": 2,
     "metadata": {},
     "output_type": "execute_result"
    }
   ],
   "source": [
    "id(count)"
   ]
  },
  {
   "cell_type": "code",
   "execution_count": 4,
   "id": "9f278bf9-d874-4944-a360-dd4bcc84bb43",
   "metadata": {},
   "outputs": [],
   "source": [
    "thing = 'this thing is a string'"
   ]
  },
  {
   "cell_type": "code",
   "execution_count": 5,
   "id": "ddc3cf68-d6e5-4f1c-af74-384bd6240221",
   "metadata": {},
   "outputs": [
    {
     "data": {
      "text/plain": [
       "4670295536"
      ]
     },
     "execution_count": 5,
     "metadata": {},
     "output_type": "execute_result"
    }
   ],
   "source": [
    "id(thing)"
   ]
  },
  {
   "cell_type": "code",
   "execution_count": 6,
   "id": "fe782768-e226-489f-8bac-d147a94030b9",
   "metadata": {},
   "outputs": [
    {
     "data": {
      "text/plain": [
       "5"
      ]
     },
     "execution_count": 6,
     "metadata": {},
     "output_type": "execute_result"
    }
   ],
   "source": [
    "2 + 3"
   ]
  },
  {
   "cell_type": "code",
   "execution_count": 8,
   "id": "3912a3af-1a3b-44af-9ab0-58de137c078e",
   "metadata": {},
   "outputs": [
    {
     "data": {
      "text/plain": [
       "4363996752"
      ]
     },
     "execution_count": 8,
     "metadata": {},
     "output_type": "execute_result"
    }
   ],
   "source": [
    "id(print) # tell me the memory address of print"
   ]
  },
  {
   "cell_type": "code",
   "execution_count": 9,
   "id": "c9e6857f-edae-403b-8380-2003a330be3b",
   "metadata": {},
   "outputs": [
    {
     "data": {
      "text/plain": [
       "4363995552"
      ]
     },
     "execution_count": 9,
     "metadata": {},
     "output_type": "execute_result"
    }
   ],
   "source": [
    "id(id)"
   ]
  },
  {
   "cell_type": "code",
   "execution_count": 10,
   "id": "139202a8-f8cc-43bc-9da0-fff2ae5ddcbe",
   "metadata": {},
   "outputs": [
    {
     "ename": "NameError",
     "evalue": "name 'gopinath' is not defined",
     "output_type": "error",
     "traceback": [
      "\u001b[0;31m---------------------------------------------------------------------------\u001b[0m",
      "\u001b[0;31mNameError\u001b[0m                                 Traceback (most recent call last)",
      "Cell \u001b[0;32mIn[10], line 1\u001b[0m\n\u001b[0;32m----> 1\u001b[0m \u001b[38;5;28mid\u001b[39m(\u001b[43mgopinath\u001b[49m)\n",
      "\u001b[0;31mNameError\u001b[0m: name 'gopinath' is not defined"
     ]
    }
   ],
   "source": [
    "id(gopinath)"
   ]
  },
  {
   "cell_type": "code",
   "execution_count": 2,
   "id": "0f9f7686-8a23-43c5-a9a5-4c1d2469a168",
   "metadata": {},
   "outputs": [],
   "source": [
    "import math"
   ]
  },
  {
   "cell_type": "code",
   "execution_count": 3,
   "id": "01e76909-e11d-4b09-8132-99259d440f98",
   "metadata": {
    "scrolled": true
   },
   "outputs": [
    {
     "data": {
      "text/plain": [
       "4376078400"
      ]
     },
     "execution_count": 3,
     "metadata": {},
     "output_type": "execute_result"
    }
   ],
   "source": [
    "id(math)"
   ]
  },
  {
   "cell_type": "code",
   "execution_count": 4,
   "id": "faf284d2-7641-44d2-8983-bf70a920c4ad",
   "metadata": {},
   "outputs": [
    {
     "data": {
      "text/plain": [
       "['__doc__',\n",
       " '__file__',\n",
       " '__loader__',\n",
       " '__name__',\n",
       " '__package__',\n",
       " '__spec__',\n",
       " 'acos',\n",
       " 'acosh',\n",
       " 'asin',\n",
       " 'asinh',\n",
       " 'atan',\n",
       " 'atan2',\n",
       " 'atanh',\n",
       " 'cbrt',\n",
       " 'ceil',\n",
       " 'comb',\n",
       " 'copysign',\n",
       " 'cos',\n",
       " 'cosh',\n",
       " 'degrees',\n",
       " 'dist',\n",
       " 'e',\n",
       " 'erf',\n",
       " 'erfc',\n",
       " 'exp',\n",
       " 'exp2',\n",
       " 'expm1',\n",
       " 'fabs',\n",
       " 'factorial',\n",
       " 'floor',\n",
       " 'fmod',\n",
       " 'frexp',\n",
       " 'fsum',\n",
       " 'gamma',\n",
       " 'gcd',\n",
       " 'hypot',\n",
       " 'inf',\n",
       " 'isclose',\n",
       " 'isfinite',\n",
       " 'isinf',\n",
       " 'isnan',\n",
       " 'isqrt',\n",
       " 'lcm',\n",
       " 'ldexp',\n",
       " 'lgamma',\n",
       " 'log',\n",
       " 'log10',\n",
       " 'log1p',\n",
       " 'log2',\n",
       " 'modf',\n",
       " 'nan',\n",
       " 'nextafter',\n",
       " 'perm',\n",
       " 'pi',\n",
       " 'pow',\n",
       " 'prod',\n",
       " 'radians',\n",
       " 'remainder',\n",
       " 'sin',\n",
       " 'sinh',\n",
       " 'sqrt',\n",
       " 'sumprod',\n",
       " 'tan',\n",
       " 'tanh',\n",
       " 'tau',\n",
       " 'trunc',\n",
       " 'ulp']"
      ]
     },
     "execution_count": 4,
     "metadata": {},
     "output_type": "execute_result"
    }
   ],
   "source": [
    "dir(math)"
   ]
  },
  {
   "cell_type": "code",
   "execution_count": 5,
   "id": "5148e72b-9aae-46ef-beb2-0ea485d83c94",
   "metadata": {},
   "outputs": [
    {
     "name": "stdout",
     "output_type": "stream",
     "text": [
      "Help on module math:\n",
      "\n",
      "NAME\n",
      "    math\n",
      "\n",
      "MODULE REFERENCE\n",
      "    https://docs.python.org/3.12/library/math.html\n",
      "\n",
      "    The following documentation is automatically generated from the Python\n",
      "    source files.  It may be incomplete, incorrect or include features that\n",
      "    are considered implementation detail and may vary between Python\n",
      "    implementations.  When in doubt, consult the module reference at the\n",
      "    location listed above.\n",
      "\n",
      "DESCRIPTION\n",
      "    This module provides access to the mathematical functions\n",
      "    defined by the C standard.\n",
      "\n",
      "FUNCTIONS\n",
      "    acos(x, /)\n",
      "        Return the arc cosine (measured in radians) of x.\n",
      "\n",
      "        The result is between 0 and pi.\n",
      "\n",
      "    acosh(x, /)\n",
      "        Return the inverse hyperbolic cosine of x.\n",
      "\n",
      "    asin(x, /)\n",
      "        Return the arc sine (measured in radians) of x.\n",
      "\n",
      "        The result is between -pi/2 and pi/2.\n",
      "\n",
      "    asinh(x, /)\n",
      "        Return the inverse hyperbolic sine of x.\n",
      "\n",
      "    atan(x, /)\n",
      "        Return the arc tangent (measured in radians) of x.\n",
      "\n",
      "        The result is between -pi/2 and pi/2.\n",
      "\n",
      "    atan2(y, x, /)\n",
      "        Return the arc tangent (measured in radians) of y/x.\n",
      "\n",
      "        Unlike atan(y/x), the signs of both x and y are considered.\n",
      "\n",
      "    atanh(x, /)\n",
      "        Return the inverse hyperbolic tangent of x.\n",
      "\n",
      "    cbrt(x, /)\n",
      "        Return the cube root of x.\n",
      "\n",
      "    ceil(x, /)\n",
      "        Return the ceiling of x as an Integral.\n",
      "\n",
      "        This is the smallest integer >= x.\n",
      "\n",
      "    comb(n, k, /)\n",
      "        Number of ways to choose k items from n items without repetition and without order.\n",
      "\n",
      "        Evaluates to n! / (k! * (n - k)!) when k <= n and evaluates\n",
      "        to zero when k > n.\n",
      "\n",
      "        Also called the binomial coefficient because it is equivalent\n",
      "        to the coefficient of k-th term in polynomial expansion of the\n",
      "        expression (1 + x)**n.\n",
      "\n",
      "        Raises TypeError if either of the arguments are not integers.\n",
      "        Raises ValueError if either of the arguments are negative.\n",
      "\n",
      "    copysign(x, y, /)\n",
      "        Return a float with the magnitude (absolute value) of x but the sign of y.\n",
      "\n",
      "        On platforms that support signed zeros, copysign(1.0, -0.0)\n",
      "        returns -1.0.\n",
      "\n",
      "    cos(x, /)\n",
      "        Return the cosine of x (measured in radians).\n",
      "\n",
      "    cosh(x, /)\n",
      "        Return the hyperbolic cosine of x.\n",
      "\n",
      "    degrees(x, /)\n",
      "        Convert angle x from radians to degrees.\n",
      "\n",
      "    dist(p, q, /)\n",
      "        Return the Euclidean distance between two points p and q.\n",
      "\n",
      "        The points should be specified as sequences (or iterables) of\n",
      "        coordinates.  Both inputs must have the same dimension.\n",
      "\n",
      "        Roughly equivalent to:\n",
      "            sqrt(sum((px - qx) ** 2.0 for px, qx in zip(p, q)))\n",
      "\n",
      "    erf(x, /)\n",
      "        Error function at x.\n",
      "\n",
      "    erfc(x, /)\n",
      "        Complementary error function at x.\n",
      "\n",
      "    exp(x, /)\n",
      "        Return e raised to the power of x.\n",
      "\n",
      "    exp2(x, /)\n",
      "        Return 2 raised to the power of x.\n",
      "\n",
      "    expm1(x, /)\n",
      "        Return exp(x)-1.\n",
      "\n",
      "        This function avoids the loss of precision involved in the direct evaluation of exp(x)-1 for small x.\n",
      "\n",
      "    fabs(x, /)\n",
      "        Return the absolute value of the float x.\n",
      "\n",
      "    factorial(n, /)\n",
      "        Find n!.\n",
      "\n",
      "        Raise a ValueError if x is negative or non-integral.\n",
      "\n",
      "    floor(x, /)\n",
      "        Return the floor of x as an Integral.\n",
      "\n",
      "        This is the largest integer <= x.\n",
      "\n",
      "    fmod(x, y, /)\n",
      "        Return fmod(x, y), according to platform C.\n",
      "\n",
      "        x % y may differ.\n",
      "\n",
      "    frexp(x, /)\n",
      "        Return the mantissa and exponent of x, as pair (m, e).\n",
      "\n",
      "        m is a float and e is an int, such that x = m * 2.**e.\n",
      "        If x is 0, m and e are both 0.  Else 0.5 <= abs(m) < 1.0.\n",
      "\n",
      "    fsum(seq, /)\n",
      "        Return an accurate floating-point sum of values in the iterable seq.\n",
      "\n",
      "        Assumes IEEE-754 floating-point arithmetic.\n",
      "\n",
      "    gamma(x, /)\n",
      "        Gamma function at x.\n",
      "\n",
      "    gcd(*integers)\n",
      "        Greatest Common Divisor.\n",
      "\n",
      "    hypot(...)\n",
      "        hypot(*coordinates) -> value\n",
      "\n",
      "        Multidimensional Euclidean distance from the origin to a point.\n",
      "\n",
      "        Roughly equivalent to:\n",
      "            sqrt(sum(x**2 for x in coordinates))\n",
      "\n",
      "        For a two dimensional point (x, y), gives the hypotenuse\n",
      "        using the Pythagorean theorem:  sqrt(x*x + y*y).\n",
      "\n",
      "        For example, the hypotenuse of a 3/4/5 right triangle is:\n",
      "\n",
      "            >>> hypot(3.0, 4.0)\n",
      "            5.0\n",
      "\n",
      "    isclose(a, b, *, rel_tol=1e-09, abs_tol=0.0)\n",
      "        Determine whether two floating-point numbers are close in value.\n",
      "\n",
      "          rel_tol\n",
      "            maximum difference for being considered \"close\", relative to the\n",
      "            magnitude of the input values\n",
      "          abs_tol\n",
      "            maximum difference for being considered \"close\", regardless of the\n",
      "            magnitude of the input values\n",
      "\n",
      "        Return True if a is close in value to b, and False otherwise.\n",
      "\n",
      "        For the values to be considered close, the difference between them\n",
      "        must be smaller than at least one of the tolerances.\n",
      "\n",
      "        -inf, inf and NaN behave similarly to the IEEE 754 Standard.  That\n",
      "        is, NaN is not close to anything, even itself.  inf and -inf are\n",
      "        only close to themselves.\n",
      "\n",
      "    isfinite(x, /)\n",
      "        Return True if x is neither an infinity nor a NaN, and False otherwise.\n",
      "\n",
      "    isinf(x, /)\n",
      "        Return True if x is a positive or negative infinity, and False otherwise.\n",
      "\n",
      "    isnan(x, /)\n",
      "        Return True if x is a NaN (not a number), and False otherwise.\n",
      "\n",
      "    isqrt(n, /)\n",
      "        Return the integer part of the square root of the input.\n",
      "\n",
      "    lcm(*integers)\n",
      "        Least Common Multiple.\n",
      "\n",
      "    ldexp(x, i, /)\n",
      "        Return x * (2**i).\n",
      "\n",
      "        This is essentially the inverse of frexp().\n",
      "\n",
      "    lgamma(x, /)\n",
      "        Natural logarithm of absolute value of Gamma function at x.\n",
      "\n",
      "    log(...)\n",
      "        log(x, [base=math.e])\n",
      "        Return the logarithm of x to the given base.\n",
      "\n",
      "        If the base is not specified, returns the natural logarithm (base e) of x.\n",
      "\n",
      "    log10(x, /)\n",
      "        Return the base 10 logarithm of x.\n",
      "\n",
      "    log1p(x, /)\n",
      "        Return the natural logarithm of 1+x (base e).\n",
      "\n",
      "        The result is computed in a way which is accurate for x near zero.\n",
      "\n",
      "    log2(x, /)\n",
      "        Return the base 2 logarithm of x.\n",
      "\n",
      "    modf(x, /)\n",
      "        Return the fractional and integer parts of x.\n",
      "\n",
      "        Both results carry the sign of x and are floats.\n",
      "\n",
      "    nextafter(x, y, /, *, steps=None)\n",
      "        Return the floating-point value the given number of steps after x towards y.\n",
      "\n",
      "        If steps is not specified or is None, it defaults to 1.\n",
      "\n",
      "        Raises a TypeError, if x or y is not a double, or if steps is not an integer.\n",
      "        Raises ValueError if steps is negative.\n",
      "\n",
      "    perm(n, k=None, /)\n",
      "        Number of ways to choose k items from n items without repetition and with order.\n",
      "\n",
      "        Evaluates to n! / (n - k)! when k <= n and evaluates\n",
      "        to zero when k > n.\n",
      "\n",
      "        If k is not specified or is None, then k defaults to n\n",
      "        and the function returns n!.\n",
      "\n",
      "        Raises TypeError if either of the arguments are not integers.\n",
      "        Raises ValueError if either of the arguments are negative.\n",
      "\n",
      "    pow(x, y, /)\n",
      "        Return x**y (x to the power of y).\n",
      "\n",
      "    prod(iterable, /, *, start=1)\n",
      "        Calculate the product of all the elements in the input iterable.\n",
      "\n",
      "        The default start value for the product is 1.\n",
      "\n",
      "        When the iterable is empty, return the start value.  This function is\n",
      "        intended specifically for use with numeric values and may reject\n",
      "        non-numeric types.\n",
      "\n",
      "    radians(x, /)\n",
      "        Convert angle x from degrees to radians.\n",
      "\n",
      "    remainder(x, y, /)\n",
      "        Difference between x and the closest integer multiple of y.\n",
      "\n",
      "        Return x - n*y where n*y is the closest integer multiple of y.\n",
      "        In the case where x is exactly halfway between two multiples of\n",
      "        y, the nearest even value of n is used. The result is always exact.\n",
      "\n",
      "    sin(x, /)\n",
      "        Return the sine of x (measured in radians).\n",
      "\n",
      "    sinh(x, /)\n",
      "        Return the hyperbolic sine of x.\n",
      "\n",
      "    sqrt(x, /)\n",
      "        Return the square root of x.\n",
      "\n",
      "    sumprod(p, q, /)\n",
      "        Return the sum of products of values from two iterables p and q.\n",
      "\n",
      "        Roughly equivalent to:\n",
      "\n",
      "            sum(itertools.starmap(operator.mul, zip(p, q, strict=True)))\n",
      "\n",
      "        For float and mixed int/float inputs, the intermediate products\n",
      "        and sums are computed with extended precision.\n",
      "\n",
      "    tan(x, /)\n",
      "        Return the tangent of x (measured in radians).\n",
      "\n",
      "    tanh(x, /)\n",
      "        Return the hyperbolic tangent of x.\n",
      "\n",
      "    trunc(x, /)\n",
      "        Truncates the Real x to the nearest Integral toward 0.\n",
      "\n",
      "        Uses the __trunc__ magic method.\n",
      "\n",
      "    ulp(x, /)\n",
      "        Return the value of the least significant bit of the float x.\n",
      "\n",
      "DATA\n",
      "    e = 2.718281828459045\n",
      "    inf = inf\n",
      "    nan = nan\n",
      "    pi = 3.141592653589793\n",
      "    tau = 6.283185307179586\n",
      "\n",
      "FILE\n",
      "    /Library/Frameworks/Python.framework/Versions/3.12/lib/python3.12/lib-dynload/math.cpython-312-darwin.so\n",
      "\n",
      "\n"
     ]
    }
   ],
   "source": [
    "help(math)"
   ]
  },
  {
   "cell_type": "code",
   "execution_count": 6,
   "id": "a53d1fb8-5639-41f3-8373-64609a8dc3cc",
   "metadata": {},
   "outputs": [
    {
     "data": {
      "text/plain": [
       "3.141592653589793"
      ]
     },
     "execution_count": 6,
     "metadata": {},
     "output_type": "execute_result"
    }
   ],
   "source": [
    "math.pi"
   ]
  },
  {
   "cell_type": "code",
   "execution_count": 7,
   "id": "3ed44b12-e316-4e03-ad82-593dbeb1d033",
   "metadata": {},
   "outputs": [
    {
     "data": {
      "text/plain": [
       "2.718281828459045"
      ]
     },
     "execution_count": 7,
     "metadata": {},
     "output_type": "execute_result"
    }
   ],
   "source": [
    "math.e"
   ]
  },
  {
   "cell_type": "code",
   "execution_count": 8,
   "id": "e2ac2701-4883-4bad-b7ae-e51a3a8d2286",
   "metadata": {},
   "outputs": [
    {
     "data": {
      "text/plain": [
       "1.0"
      ]
     },
     "execution_count": 8,
     "metadata": {},
     "output_type": "execute_result"
    }
   ],
   "source": [
    "math.sin(math.pi / 2.0)"
   ]
  },
  {
   "cell_type": "code",
   "execution_count": 11,
   "id": "2fd72202-c2a2-4a0b-90e2-eaef8e80fc6c",
   "metadata": {},
   "outputs": [],
   "source": [
    "# Python allows us to provide \"type hints\" which tell what type we expect a variable to be\n",
    "quantity: int = 0 # this is not something that Python enforces"
   ]
  },
  {
   "cell_type": "code",
   "execution_count": 13,
   "id": "923aaa57-1a02-4fcf-aa1e-f9983b2ec782",
   "metadata": {},
   "outputs": [],
   "source": [
    "# 1000s of lines later...\n",
    "quantity = 1.23 # can I put a float in it?"
   ]
  },
  {
   "cell_type": "code",
   "execution_count": 15,
   "id": "3a57b0a1-37e9-4308-8be3-e1ed0984bdae",
   "metadata": {},
   "outputs": [
    {
     "data": {
      "text/plain": [
       "1.23"
      ]
     },
     "execution_count": 15,
     "metadata": {},
     "output_type": "execute_result"
    }
   ],
   "source": [
    "quantity # ask Python/Jupyter to evaluate this, i.e., tell me its value"
   ]
  },
  {
   "cell_type": "code",
   "execution_count": 16,
   "id": "4b7a044e-82d8-495b-9c91-c66624377b7d",
   "metadata": {},
   "outputs": [
    {
     "name": "stdout",
     "output_type": "stream",
     "text": [
      "1.23\n"
     ]
    }
   ],
   "source": [
    "print(quantity) # the Python way to get output"
   ]
  },
  {
   "cell_type": "code",
   "execution_count": 17,
   "id": "7e004001-5613-4492-8a11-c01294fbc449",
   "metadata": {},
   "outputs": [
    {
     "data": {
      "text/plain": [
       "2.46"
      ]
     },
     "execution_count": 17,
     "metadata": {},
     "output_type": "execute_result"
    }
   ],
   "source": [
    "quantity * 2"
   ]
  },
  {
   "cell_type": "code",
   "execution_count": 18,
   "id": "55b63af8-25bd-44a7-8ccd-4c5ab3331767",
   "metadata": {},
   "outputs": [
    {
     "data": {
      "text/plain": [
       "4"
      ]
     },
     "execution_count": 18,
     "metadata": {},
     "output_type": "execute_result"
    }
   ],
   "source": [
    "2 * 2"
   ]
  },
  {
   "cell_type": "code",
   "execution_count": 19,
   "id": "82e94afa-97df-41dc-8d6a-f34be7a4e279",
   "metadata": {},
   "outputs": [
    {
     "data": {
      "text/plain": [
       "4"
      ]
     },
     "execution_count": 19,
     "metadata": {},
     "output_type": "execute_result"
    }
   ],
   "source": [
    "2 + 2"
   ]
  },
  {
   "cell_type": "code",
   "execution_count": 20,
   "id": "fadc520f-7425-414d-b4ce-e2ee99ac0340",
   "metadata": {},
   "outputs": [
    {
     "data": {
      "text/plain": [
       "'22'"
      ]
     },
     "execution_count": 20,
     "metadata": {},
     "output_type": "execute_result"
    }
   ],
   "source": [
    "'2' + '2'"
   ]
  },
  {
   "cell_type": "code",
   "execution_count": 21,
   "id": "2185a906-b382-4561-9a10-b7074df8e248",
   "metadata": {},
   "outputs": [
    {
     "data": {
      "text/plain": [
       "'twotwo'"
      ]
     },
     "execution_count": 21,
     "metadata": {},
     "output_type": "execute_result"
    }
   ],
   "source": [
    "'two' + 'two'"
   ]
  },
  {
   "cell_type": "code",
   "execution_count": 22,
   "id": "75c32eb4-4a86-462a-9f07-f70a8f64faa1",
   "metadata": {},
   "outputs": [
    {
     "ename": "TypeError",
     "evalue": "can only concatenate str (not \"int\") to str",
     "output_type": "error",
     "traceback": [
      "\u001b[0;31m---------------------------------------------------------------------------\u001b[0m",
      "\u001b[0;31mTypeError\u001b[0m                                 Traceback (most recent call last)",
      "Cell \u001b[0;32mIn[22], line 1\u001b[0m\n\u001b[0;32m----> 1\u001b[0m \u001b[38;5;124;43m'\u001b[39;49m\u001b[38;5;124;43mPrince\u001b[39;49m\u001b[38;5;124;43m'\u001b[39;49m\u001b[43m \u001b[49m\u001b[38;5;241;43m+\u001b[39;49m\u001b[43m \u001b[49m\u001b[38;5;241;43m1999\u001b[39;49m\n",
      "\u001b[0;31mTypeError\u001b[0m: can only concatenate str (not \"int\") to str"
     ]
    }
   ],
   "source": [
    "'Prince' + 1999"
   ]
  },
  {
   "cell_type": "code",
   "execution_count": 23,
   "id": "4c9e541e-82a2-4e03-a0bc-529deb0adfa9",
   "metadata": {},
   "outputs": [
    {
     "name": "stdout",
     "output_type": "stream",
     "text": [
      "['False', 'None', 'True', 'and', 'as', 'assert', 'async', 'await', 'break', 'class', 'continue', 'def', 'del', 'elif', 'else', 'except', 'finally', 'for', 'from', 'global', 'if', 'import', 'in', 'is', 'lambda', 'nonlocal', 'not', 'or', 'pass', 'raise', 'return', 'try', 'while', 'with', 'yield']\n"
     ]
    }
   ],
   "source": [
    "import keyword\n",
    "print(keyword.kwlist)"
   ]
  },
  {
   "cell_type": "code",
   "execution_count": 24,
   "id": "61e9978c-b53d-4286-a4ea-f61f06d42a8c",
   "metadata": {},
   "outputs": [
    {
     "data": {
      "text/plain": [
       "133000000000000.0"
      ]
     },
     "execution_count": 24,
     "metadata": {},
     "output_type": "execute_result"
    }
   ],
   "source": [
    "1.33e14"
   ]
  },
  {
   "cell_type": "code",
   "execution_count": 25,
   "id": "c7dcf717-047a-4f6e-95d3-555ec288a4c4",
   "metadata": {},
   "outputs": [],
   "source": [
    "import math"
   ]
  },
  {
   "cell_type": "code",
   "execution_count": 26,
   "id": "82ad7dde-0b6b-4d44-b9a8-29f667080842",
   "metadata": {},
   "outputs": [
    {
     "data": {
      "text/plain": [
       "\"<module 'math' from '/Library/Frameworks/Python.framework/Versions/3.12/lib/python3.12/lib-dynload/math.cpython-312-darwin.so'>\""
      ]
     },
     "execution_count": 26,
     "metadata": {},
     "output_type": "execute_result"
    }
   ],
   "source": [
    "str(math)"
   ]
  },
  {
   "cell_type": "code",
   "execution_count": 27,
   "id": "c9628d9e-7680-45cf-9531-842f5258831c",
   "metadata": {},
   "outputs": [
    {
     "data": {
      "text/plain": [
       "'<built-in function print>'"
      ]
     },
     "execution_count": 27,
     "metadata": {},
     "output_type": "execute_result"
    }
   ],
   "source": [
    "str(print)"
   ]
  },
  {
   "cell_type": "code",
   "execution_count": 28,
   "id": "51843a39-609d-4256-940f-eb01d8a6308a",
   "metadata": {},
   "outputs": [],
   "source": [
    "first_name, last_name = 'Bruce', 'Lee'"
   ]
  },
  {
   "cell_type": "code",
   "execution_count": 29,
   "id": "fbf4028e-cebb-43e6-b2e3-0ed89afabad7",
   "metadata": {},
   "outputs": [
    {
     "data": {
      "text/plain": [
       "'Bruce'"
      ]
     },
     "execution_count": 29,
     "metadata": {},
     "output_type": "execute_result"
    }
   ],
   "source": [
    "first_name"
   ]
  },
  {
   "cell_type": "code",
   "execution_count": 30,
   "id": "709384a0-9668-4cf3-939a-96c65c919900",
   "metadata": {},
   "outputs": [],
   "source": [
    "product_name = 'hairbrush'\n",
    "product_quantity = 10"
   ]
  },
  {
   "cell_type": "code",
   "execution_count": 31,
   "id": "f4a2e326-75f3-4b4f-a2aa-dd4f555f2afc",
   "metadata": {},
   "outputs": [],
   "source": [
    "name = 'Taylor'\n",
    "city = 'Dallas'"
   ]
  },
  {
   "cell_type": "code",
   "execution_count": 32,
   "id": "27531641-17b5-4d04-be0b-a769b042299c",
   "metadata": {},
   "outputs": [
    {
     "name": "stdout",
     "output_type": "stream",
     "text": [
      "<module 'math' from '/Library/Frameworks/Python.framework/Versions/3.12/lib/python3.12/lib-dynload/math.cpython-312-darwin.so'>\n"
     ]
    }
   ],
   "source": [
    "print(math)"
   ]
  },
  {
   "cell_type": "code",
   "execution_count": 33,
   "id": "360f3642-ebc0-48d8-9de2-aea423388f77",
   "metadata": {},
   "outputs": [
    {
     "name": "stdout",
     "output_type": "stream",
     "text": [
      "one\n",
      "two\n"
     ]
    }
   ],
   "source": [
    "print('one')\n",
    "print('two')"
   ]
  },
  {
   "cell_type": "code",
   "execution_count": 34,
   "id": "05250ffd-55cb-4690-8f41-72bd72aecad9",
   "metadata": {},
   "outputs": [
    {
     "name": "stdout",
     "output_type": "stream",
     "text": [
      "one two\n"
     ]
    }
   ],
   "source": [
    "print('one', end=' ')\n",
    "print('two')"
   ]
  },
  {
   "cell_type": "code",
   "execution_count": 35,
   "id": "be55f6d4-e277-49ba-87dc-1737f8386bf5",
   "metadata": {},
   "outputs": [
    {
     "data": {
      "text/plain": [
       "'53.3'"
      ]
     },
     "execution_count": 35,
     "metadata": {},
     "output_type": "execute_result"
    }
   ],
   "source": [
    "str(53.3)"
   ]
  },
  {
   "cell_type": "code",
   "execution_count": 36,
   "id": "1f4cdc0b-fe38-4a37-b34b-9b1a4f6f97d3",
   "metadata": {},
   "outputs": [
    {
     "data": {
      "text/plain": [
       "'False'"
      ]
     },
     "execution_count": 36,
     "metadata": {},
     "output_type": "execute_result"
    }
   ],
   "source": [
    "str(False)"
   ]
  },
  {
   "cell_type": "code",
   "execution_count": 43,
   "id": "6121650f-a59e-472d-a826-8798b8739d7c",
   "metadata": {},
   "outputs": [
    {
     "data": {
      "text/plain": [
       "'true'"
      ]
     },
     "execution_count": 43,
     "metadata": {},
     "output_type": "execute_result"
    }
   ],
   "source": [
    "false = 'true'\n",
    "str(false)"
   ]
  },
  {
   "cell_type": "code",
   "execution_count": 37,
   "id": "ed597dfe-bee5-4d39-97f5-699579e080d3",
   "metadata": {},
   "outputs": [
    {
     "data": {
      "text/plain": [
       "300"
      ]
     },
     "execution_count": 37,
     "metadata": {},
     "output_type": "execute_result"
    }
   ],
   "source": [
    "int('300')"
   ]
  },
  {
   "cell_type": "code",
   "execution_count": 38,
   "id": "031f6d87-85a0-4de2-ab9a-90c6b2f35df0",
   "metadata": {},
   "outputs": [
    {
     "ename": "ValueError",
     "evalue": "invalid literal for int() with base 10: '30x'",
     "output_type": "error",
     "traceback": [
      "\u001b[0;31m---------------------------------------------------------------------------\u001b[0m",
      "\u001b[0;31mValueError\u001b[0m                                Traceback (most recent call last)",
      "Cell \u001b[0;32mIn[38], line 1\u001b[0m\n\u001b[0;32m----> 1\u001b[0m \u001b[38;5;28;43mint\u001b[39;49m\u001b[43m(\u001b[49m\u001b[38;5;124;43m'\u001b[39;49m\u001b[38;5;124;43m30x\u001b[39;49m\u001b[38;5;124;43m'\u001b[39;49m\u001b[43m)\u001b[49m\n",
      "\u001b[0;31mValueError\u001b[0m: invalid literal for int() with base 10: '30x'"
     ]
    }
   ],
   "source": [
    "int('30x')"
   ]
  },
  {
   "cell_type": "code",
   "execution_count": 41,
   "id": "785250dd-bac3-4851-be1b-5e7e50eeea74",
   "metadata": {},
   "outputs": [
    {
     "data": {
      "text/plain": [
       "bool"
      ]
     },
     "execution_count": 41,
     "metadata": {},
     "output_type": "execute_result"
    }
   ],
   "source": [
    "type(False)"
   ]
  },
  {
   "cell_type": "code",
   "execution_count": 40,
   "id": "3c4f794e-6840-4fe4-9553-9af799c9e776",
   "metadata": {},
   "outputs": [
    {
     "data": {
      "text/plain": [
       "str"
      ]
     },
     "execution_count": 40,
     "metadata": {},
     "output_type": "execute_result"
    }
   ],
   "source": [
    "type('False')"
   ]
  },
  {
   "cell_type": "code",
   "execution_count": 39,
   "id": "cd16d858-8afb-432e-86bd-d76e083dd2e5",
   "metadata": {},
   "outputs": [
    {
     "data": {
      "text/plain": [
       "float"
      ]
     },
     "execution_count": 39,
     "metadata": {},
     "output_type": "execute_result"
    }
   ],
   "source": [
    "type(3.5)"
   ]
  },
  {
   "cell_type": "code",
   "execution_count": 48,
   "id": "f107206b-3ccd-404f-b323-9a6845178d8d",
   "metadata": {},
   "outputs": [
    {
     "data": {
      "text/plain": [
       "2.7"
      ]
     },
     "execution_count": 48,
     "metadata": {},
     "output_type": "execute_result"
    }
   ],
   "source": [
    "round(8 / 3, ndigits=1)"
   ]
  },
  {
   "cell_type": "code",
   "execution_count": null,
   "id": "9241420b-0604-48e7-a0ed-ed3308ec3bc2",
   "metadata": {},
   "outputs": [],
   "source": [
    "quantity"
   ]
  },
  {
   "cell_type": "code",
   "execution_count": 49,
   "id": "5163d99a-5593-4c17-8c8e-009666af48dc",
   "metadata": {
    "jupyter": {
     "source_hidden": true
    }
   },
   "outputs": [],
   "source": [
    "a, b, o, p = 'b', 'a', 'p', 'o'"
   ]
  },
  {
   "cell_type": "code",
   "execution_count": 50,
   "id": "c1de7a94-2c74-433e-9e87-e279ae2165b2",
   "metadata": {},
   "outputs": [
    {
     "data": {
      "text/plain": [
       "'pop'"
      ]
     },
     "execution_count": 50,
     "metadata": {},
     "output_type": "execute_result"
    }
   ],
   "source": [
    "o + p + o"
   ]
  },
  {
   "cell_type": "code",
   "execution_count": 51,
   "id": "da1eb554-26c5-4bba-8085-762ae51fccf2",
   "metadata": {},
   "outputs": [
    {
     "data": {
      "text/plain": [
       "'bbba'"
      ]
     },
     "execution_count": 51,
     "metadata": {},
     "output_type": "execute_result"
    }
   ],
   "source": [
    "a * 3 + b"
   ]
  },
  {
   "cell_type": "code",
   "execution_count": 52,
   "id": "bc6d4e28-e253-4010-ab4b-b03c46017785",
   "metadata": {},
   "outputs": [
    {
     "data": {
      "text/plain": [
       "'bookkeeper'"
      ]
     },
     "execution_count": 52,
     "metadata": {},
     "output_type": "execute_result"
    }
   ],
   "source": [
    "a + p * 2 + 'k' * 2 + 'e' * 2 + o + 'er'"
   ]
  },
  {
   "cell_type": "code",
   "execution_count": 53,
   "id": "2a840483-f5bf-4d79-b3ab-7ce92be9b59b",
   "metadata": {},
   "outputs": [
    {
     "data": {
      "text/plain": [
       "4"
      ]
     },
     "execution_count": 53,
     "metadata": {},
     "output_type": "execute_result"
    }
   ],
   "source": [
    "len('four')"
   ]
  },
  {
   "cell_type": "code",
   "execution_count": 54,
   "id": "bfd66abb-7907-4490-b24c-2a39a99c8aa3",
   "metadata": {},
   "outputs": [
    {
     "ename": "TypeError",
     "evalue": "object of type 'int' has no len()",
     "output_type": "error",
     "traceback": [
      "\u001b[0;31m---------------------------------------------------------------------------\u001b[0m",
      "\u001b[0;31mTypeError\u001b[0m                                 Traceback (most recent call last)",
      "Cell \u001b[0;32mIn[54], line 1\u001b[0m\n\u001b[0;32m----> 1\u001b[0m \u001b[38;5;28;43mlen\u001b[39;49m\u001b[43m(\u001b[49m\u001b[38;5;241;43m4\u001b[39;49m\u001b[43m)\u001b[49m\n",
      "\u001b[0;31mTypeError\u001b[0m: object of type 'int' has no len()"
     ]
    }
   ],
   "source": [
    "len(4)"
   ]
  },
  {
   "cell_type": "code",
   "execution_count": 55,
   "id": "e2e6f142-7749-4983-aafc-fd6d5953ff2d",
   "metadata": {},
   "outputs": [],
   "source": [
    "name = 'Ganesh'"
   ]
  },
  {
   "cell_type": "code",
   "execution_count": 56,
   "id": "bacf62f2-62ed-48bc-b373-1a740c9a6168",
   "metadata": {},
   "outputs": [],
   "source": [
    "name = ''"
   ]
  },
  {
   "cell_type": "code",
   "execution_count": 59,
   "id": "5841a321-91a3-4aa9-90f2-678bf0e3740d",
   "metadata": {},
   "outputs": [],
   "source": [
    "i = 12343894389439"
   ]
  },
  {
   "cell_type": "code",
   "execution_count": 60,
   "id": "d8981890-a711-4ce8-9586-e9943158f267",
   "metadata": {},
   "outputs": [
    {
     "ename": "TypeError",
     "evalue": "object of type 'int' has no len()",
     "output_type": "error",
     "traceback": [
      "\u001b[0;31m---------------------------------------------------------------------------\u001b[0m",
      "\u001b[0;31mTypeError\u001b[0m                                 Traceback (most recent call last)",
      "Cell \u001b[0;32mIn[60], line 1\u001b[0m\n\u001b[0;32m----> 1\u001b[0m \u001b[38;5;28;43mlen\u001b[39;49m\u001b[43m(\u001b[49m\u001b[43mi\u001b[49m\u001b[43m)\u001b[49m\n",
      "\u001b[0;31mTypeError\u001b[0m: object of type 'int' has no len()"
     ]
    }
   ],
   "source": [
    "len(i)"
   ]
  },
  {
   "cell_type": "code",
   "execution_count": 61,
   "id": "3fde85c4-941f-4d85-afd1-066c95b66820",
   "metadata": {},
   "outputs": [
    {
     "data": {
      "text/plain": [
       "True"
      ]
     },
     "execution_count": 61,
     "metadata": {},
     "output_type": "execute_result"
    }
   ],
   "source": [
    "'f' in 'salesforce'"
   ]
  },
  {
   "cell_type": "code",
   "execution_count": 62,
   "id": "a5af9e77-25fc-49ff-ad30-895d7e80ae2f",
   "metadata": {},
   "outputs": [
    {
     "data": {
      "text/plain": [
       "True"
      ]
     },
     "execution_count": 62,
     "metadata": {},
     "output_type": "execute_result"
    }
   ],
   "source": [
    "'sales' in 'salesforce'"
   ]
  },
  {
   "cell_type": "code",
   "execution_count": 63,
   "id": "c4ed9a88-493d-4813-9e4b-1c0b31006455",
   "metadata": {},
   "outputs": [
    {
     "data": {
      "text/plain": [
       "True"
      ]
     },
     "execution_count": 63,
     "metadata": {},
     "output_type": "execute_result"
    }
   ],
   "source": [
    "'ale' in 'salesforce'"
   ]
  },
  {
   "cell_type": "code",
   "execution_count": 64,
   "id": "8c3e1e90-35f0-43b4-91ab-672f67d1f8cd",
   "metadata": {},
   "outputs": [
    {
     "data": {
      "text/plain": [
       "True"
      ]
     },
     "execution_count": 64,
     "metadata": {},
     "output_type": "execute_result"
    }
   ],
   "source": [
    "1 in [1, 2, 3]"
   ]
  },
  {
   "cell_type": "code",
   "execution_count": 65,
   "id": "c74b6f71-534c-40bd-886e-c541ee0ae40b",
   "metadata": {},
   "outputs": [],
   "source": [
    "name = 'benioff'"
   ]
  },
  {
   "cell_type": "code",
   "execution_count": 66,
   "id": "074c9883-89cb-43a7-b734-ed509026dd38",
   "metadata": {},
   "outputs": [
    {
     "data": {
      "text/plain": [
       "'b'"
      ]
     },
     "execution_count": 66,
     "metadata": {},
     "output_type": "execute_result"
    }
   ],
   "source": [
    "name[0]"
   ]
  },
  {
   "cell_type": "code",
   "execution_count": 67,
   "id": "cb786cce-9dd8-4233-8bc2-148407f45617",
   "metadata": {},
   "outputs": [
    {
     "ename": "TypeError",
     "evalue": "'str' object does not support item assignment",
     "output_type": "error",
     "traceback": [
      "\u001b[0;31m---------------------------------------------------------------------------\u001b[0m",
      "\u001b[0;31mTypeError\u001b[0m                                 Traceback (most recent call last)",
      "Cell \u001b[0;32mIn[67], line 1\u001b[0m\n\u001b[0;32m----> 1\u001b[0m \u001b[43mname\u001b[49m\u001b[43m[\u001b[49m\u001b[38;5;241;43m0\u001b[39;49m\u001b[43m]\u001b[49m \u001b[38;5;241m=\u001b[39m \u001b[38;5;124m'\u001b[39m\u001b[38;5;124mB\u001b[39m\u001b[38;5;124m'\u001b[39m\n",
      "\u001b[0;31mTypeError\u001b[0m: 'str' object does not support item assignment"
     ]
    }
   ],
   "source": [
    "name[0] = 'B'"
   ]
  },
  {
   "cell_type": "code",
   "execution_count": 68,
   "id": "ecc53cee-1233-42dc-b983-735288402edc",
   "metadata": {},
   "outputs": [],
   "source": [
    "name = 'Benioff'"
   ]
  },
  {
   "cell_type": "code",
   "execution_count": 69,
   "id": "a2cfea4e-df84-4737-ba61-34977facae53",
   "metadata": {},
   "outputs": [],
   "source": [
    "i = 5"
   ]
  },
  {
   "cell_type": "code",
   "execution_count": 70,
   "id": "00c9e056-8a30-4f72-bab4-e1a0108e0862",
   "metadata": {},
   "outputs": [],
   "source": [
    "i = 6"
   ]
  },
  {
   "cell_type": "code",
   "execution_count": 71,
   "id": "fc2fd36c-7d4a-4fa6-8cf4-457af8491d64",
   "metadata": {},
   "outputs": [],
   "source": [
    "import random # \"batteries included\""
   ]
  },
  {
   "cell_type": "code",
   "execution_count": 76,
   "id": "fef37e14-ca4f-4c29-b5ec-0494249a74f3",
   "metadata": {},
   "outputs": [
    {
     "data": {
      "text/plain": [
       "76"
      ]
     },
     "execution_count": 76,
     "metadata": {},
     "output_type": "execute_result"
    }
   ],
   "source": [
    "random.randint(1, 100)"
   ]
  },
  {
   "cell_type": "code",
   "execution_count": 77,
   "id": "c71c4298-82ad-4e53-adea-a16e34cb9807",
   "metadata": {},
   "outputs": [
    {
     "name": "stdout",
     "output_type": "stream",
     "text": [
      "Help on method randint in module random:\n",
      "\n",
      "randint(a, b) method of random.Random instance\n",
      "    Return random integer in range [a, b], including both end points.\n",
      "\n"
     ]
    }
   ],
   "source": [
    "help(random.randint)"
   ]
  },
  {
   "cell_type": "code",
   "execution_count": 89,
   "id": "164fe8a1-9c91-4c92-9c13-d12c3c85bad3",
   "metadata": {},
   "outputs": [
    {
     "name": "stdin",
     "output_type": "stream",
     "text": [
      "Guess?  43\n"
     ]
    }
   ],
   "source": [
    "guess = input('Guess? ')"
   ]
  },
  {
   "cell_type": "code",
   "execution_count": 90,
   "id": "eb8a832c-e663-424c-8236-0e6927dc328c",
   "metadata": {},
   "outputs": [
    {
     "data": {
      "text/plain": [
       "43"
      ]
     },
     "execution_count": 90,
     "metadata": {},
     "output_type": "execute_result"
    }
   ],
   "source": [
    "int(guess)"
   ]
  },
  {
   "cell_type": "code",
   "execution_count": 84,
   "id": "88c3bd13-9aec-4167-ba28-e6db4e423b1e",
   "metadata": {
    "scrolled": true
   },
   "outputs": [
    {
     "ename": "ValueError",
     "evalue": "invalid literal for int() with base 10: 'STOP'",
     "output_type": "error",
     "traceback": [
      "\u001b[0;31m---------------------------------------------------------------------------\u001b[0m",
      "\u001b[0;31mValueError\u001b[0m                                Traceback (most recent call last)",
      "Cell \u001b[0;32mIn[84], line 1\u001b[0m\n\u001b[0;32m----> 1\u001b[0m \u001b[38;5;28;01mif\u001b[39;00m \u001b[38;5;28;43mint\u001b[39;49m\u001b[43m(\u001b[49m\u001b[43mguess\u001b[49m\u001b[43m)\u001b[49m:\n\u001b[1;32m      2\u001b[0m     \u001b[38;5;28mprint\u001b[39m(guess)\n\u001b[1;32m      3\u001b[0m \u001b[38;5;28;01melse\u001b[39;00m:\n",
      "\u001b[0;31mValueError\u001b[0m: invalid literal for int() with base 10: 'STOP'"
     ]
    }
   ],
   "source": [
    "if int(guess):\n",
    "    print(guess)\n",
    "else:\n",
    "    print('stop')"
   ]
  },
  {
   "cell_type": "code",
   "execution_count": 91,
   "id": "679e5c63-bc66-42de-8cf6-8712c39b0c85",
   "metadata": {},
   "outputs": [
    {
     "data": {
      "text/plain": [
       "65536"
      ]
     },
     "execution_count": 91,
     "metadata": {},
     "output_type": "execute_result"
    }
   ],
   "source": [
    "2 ** 16"
   ]
  },
  {
   "cell_type": "code",
   "execution_count": 92,
   "id": "43e53e5d-b0a9-45c0-9a26-a589d5985a93",
   "metadata": {},
   "outputs": [
    {
     "name": "stdout",
     "output_type": "stream",
     "text": [
      "['False', 'None', 'True', 'and', 'as', 'assert', 'async', 'await', 'break', 'class', 'continue', 'def', 'del', 'elif', 'else', 'except', 'finally', 'for', 'from', 'global', 'if', 'import', 'in', 'is', 'lambda', 'nonlocal', 'not', 'or', 'pass', 'raise', 'return', 'try', 'while', 'with', 'yield']\n"
     ]
    }
   ],
   "source": [
    "import keyword\n",
    "print(keyword.kwlist)"
   ]
  },
  {
   "cell_type": "code",
   "execution_count": 93,
   "id": "96a4cb05-d79b-4175-9217-a13ec5adaa3b",
   "metadata": {},
   "outputs": [
    {
     "name": "stdout",
     "output_type": "stream",
     "text": [
      "1\n",
      "2\n",
      "3\n"
     ]
    }
   ],
   "source": [
    "print(1)\n",
    "print(2)\n",
    "print(3)"
   ]
  },
  {
   "cell_type": "code",
   "execution_count": 96,
   "id": "982e14df-61de-42fe-b689-0f21900d3b9a",
   "metadata": {},
   "outputs": [
    {
     "name": "stdout",
     "output_type": "stream",
     "text": [
      "hello\n",
      "\n",
      "bye\n"
     ]
    }
   ],
   "source": [
    "print('hello', end='\\n\\n')\n",
    "print('bye')"
   ]
  },
  {
   "cell_type": "code",
   "execution_count": 97,
   "id": "80ae1d37-9ca6-4f5f-8219-e24df9e6186b",
   "metadata": {},
   "outputs": [
    {
     "ename": "ValueError",
     "evalue": "invalid literal for int() with base 10: 'one'",
     "output_type": "error",
     "traceback": [
      "\u001b[0;31m---------------------------------------------------------------------------\u001b[0m",
      "\u001b[0;31mValueError\u001b[0m                                Traceback (most recent call last)",
      "Cell \u001b[0;32mIn[97], line 1\u001b[0m\n\u001b[0;32m----> 1\u001b[0m \u001b[38;5;28;43mint\u001b[39;49m\u001b[43m(\u001b[49m\u001b[38;5;124;43m'\u001b[39;49m\u001b[38;5;124;43mone\u001b[39;49m\u001b[38;5;124;43m'\u001b[39;49m\u001b[43m)\u001b[49m\n",
      "\u001b[0;31mValueError\u001b[0m: invalid literal for int() with base 10: 'one'"
     ]
    }
   ],
   "source": [
    "int('one')"
   ]
  },
  {
   "cell_type": "code",
   "execution_count": 98,
   "id": "3957ecfb-520e-4461-8f99-aa57d1dc72c4",
   "metadata": {},
   "outputs": [
    {
     "ename": "ZeroDivisionError",
     "evalue": "division by zero",
     "output_type": "error",
     "traceback": [
      "\u001b[0;31m---------------------------------------------------------------------------\u001b[0m",
      "\u001b[0;31mZeroDivisionError\u001b[0m                         Traceback (most recent call last)",
      "Cell \u001b[0;32mIn[98], line 1\u001b[0m\n\u001b[0;32m----> 1\u001b[0m \u001b[38;5;241;43m2\u001b[39;49m\u001b[43m \u001b[49m\u001b[38;5;241;43m/\u001b[39;49m\u001b[43m \u001b[49m\u001b[38;5;241;43m0\u001b[39;49m\n",
      "\u001b[0;31mZeroDivisionError\u001b[0m: division by zero"
     ]
    }
   ],
   "source": [
    "2 / 0"
   ]
  },
  {
   "cell_type": "code",
   "execution_count": 110,
   "id": "74848db6-d03c-4de8-97bc-40e989b4cd20",
   "metadata": {},
   "outputs": [
    {
     "name": "stdout",
     "output_type": "stream",
     "text": [
      "1\n",
      "2\n",
      "3\n",
      "4\n",
      "5\n",
      "6\n",
      "7\n",
      "8\n",
      "9\n",
      "10\n"
     ]
    }
   ],
   "source": [
    "import random\n",
    "\n",
    "for number in range(1, 11):\n",
    "    print(number)"
   ]
  },
  {
   "cell_type": "code",
   "execution_count": 100,
   "id": "4d09cda8-18c0-4c35-aa81-41fcbbf2a6d3",
   "metadata": {},
   "outputs": [
    {
     "name": "stdout",
     "output_type": "stream",
     "text": [
      "1\n",
      "2\n",
      "3\n",
      "4\n",
      "5\n",
      "6\n",
      "7\n",
      "8\n",
      "9\n",
      "10\n"
     ]
    }
   ],
   "source": [
    "# could we write the above as a while loop\n",
    "number = 1\n",
    "while number < 11:\n",
    "    print(number)\n",
    "    number += 1 # number = number + 1"
   ]
  },
  {
   "cell_type": "code",
   "execution_count": 102,
   "id": "d105ab62-9173-4584-820b-e968bcb0d80a",
   "metadata": {},
   "outputs": [
    {
     "name": "stdout",
     "output_type": "stream",
     "text": [
      "1\n",
      "5\n",
      "7\n",
      "8\n",
      "9\n",
      "13\n",
      "15\n",
      "18\n",
      "19\n"
     ]
    }
   ],
   "source": [
    "# what if the increment is not constant?\n",
    "# can't use a for loop\n",
    "import random\n",
    "\n",
    "number = 1\n",
    "while number < 21:\n",
    "    print(number)\n",
    "    number += random.randint(1, 4)"
   ]
  },
  {
   "cell_type": "markdown",
   "id": "68321227-28ad-43c5-8e09-4946c05cacc0",
   "metadata": {},
   "source": [
    "## Quick Lab: Loops/Strings\n",
    "* have the user enter a string, then loop through the string to generate (or print) a new string in which every character is duplicated, e.g., \"Python\" => \"PPyytthhoonn\""
   ]
  },
  {
   "cell_type": "code",
   "execution_count": 112,
   "id": "2a2b5643-fce8-4d86-a32b-711436274ba3",
   "metadata": {},
   "outputs": [],
   "source": [
    "# steps for a human to solve this problem\n",
    "# 1. ask the person for a word/phrase\n",
    "# 2. write down each character/letter of the word or phrase twice, e.g. \"hello\" => \"hheelloooo\""
   ]
  },
  {
   "cell_type": "code",
   "execution_count": 113,
   "id": "44e3287a-0069-494d-8683-f240c6d09504",
   "metadata": {},
   "outputs": [],
   "source": [
    "# pseudocode (mix of English and code indentation/constructs)\n",
    "# 1. get a word/phrase/string from user\n",
    "# 2. for each character in the word:\n",
    "# 3.     print the character twice, with no carriage return after it"
   ]
  },
  {
   "cell_type": "code",
   "execution_count": 125,
   "id": "0e61632d-fbf9-4895-b318-2958aba99c8c",
   "metadata": {},
   "outputs": [
    {
     "name": "stdin",
     "output_type": "stream",
     "text": [
      "Enter a string:  hello\n"
     ]
    },
    {
     "name": "stdout",
     "output_type": "stream",
     "text": [
      "hhheeellllllooo"
     ]
    }
   ],
   "source": [
    "phrase = input('Enter a string: ') # 1\n",
    "for character in phrase: # 2\n",
    "    print(character * 2, end='') # 3 ... duplicate character, with no \\n at the end"
   ]
  },
  {
   "cell_type": "code",
   "execution_count": 120,
   "id": "bbb0a2de-772a-4c5a-9ee3-66670ea2f840",
   "metadata": {},
   "outputs": [
    {
     "name": "stdin",
     "output_type": "stream",
     "text": [
      "Enter a string:  hello\n"
     ]
    },
    {
     "name": "stdout",
     "output_type": "stream",
     "text": [
      "hheelllloo"
     ]
    }
   ],
   "source": [
    "phrase = input('Enter a string: ') # 1\n",
    "for character in phrase: # 2\n",
    "    print(character + character, end='') # 3 ... duplicate character, with no \\n at the end"
   ]
  },
  {
   "cell_type": "code",
   "execution_count": 122,
   "id": "27dba4d7-d33c-4097-99aa-4ad01af96788",
   "metadata": {},
   "outputs": [
    {
     "name": "stdin",
     "output_type": "stream",
     "text": [
      "Enter a string:  hello\n"
     ]
    },
    {
     "name": "stdout",
     "output_type": "stream",
     "text": [
      "hheelllloo"
     ]
    }
   ],
   "source": [
    "phrase = input('Enter a string: ') # 1\n",
    "for character in phrase: # 2\n",
    "    print(character, character, sep='', end='') #"
   ]
  },
  {
   "cell_type": "code",
   "execution_count": 127,
   "id": "fb71d3c6-36b8-4092-915f-c9c9a41040d4",
   "metadata": {},
   "outputs": [
    {
     "name": "stdin",
     "output_type": "stream",
     "text": [
      "Enter a string:  Python\n"
     ]
    },
    {
     "name": "stdout",
     "output_type": "stream",
     "text": [
      "PPyytthhoonn\n"
     ]
    }
   ],
   "source": [
    "phrase = input('Enter a string: ') # 1\n",
    "final_string = ''\n",
    "\n",
    "for character in phrase: # 2\n",
    "    final_string = final_string + character * 2\n",
    "    # final_string += character * 2\n",
    "\n",
    "print(final_string)"
   ]
  },
  {
   "cell_type": "markdown",
   "id": "e8cf373f-3b7d-4b8d-b6b8-27ee8f834fe0",
   "metadata": {},
   "source": [
    "## Lab: Fibonacci\n",
    "* write code to print out the Fibonacci sequence up to a number of the user's choosing\n",
    "* user will enter either number of Fibonacci numbers they want to see or the maximum Fibonacci number they want to see (either a for loop or while loop)\n",
    "* first Fibonacci is 1, second Fibonacci is also 1, and every subsequent Fibonacci number is the sum of the previous two (1, 1, 2, 3, 5, 8, 13, 21, 34, ...)"
   ]
  },
  {
   "cell_type": "code",
   "execution_count": null,
   "id": "1a856d1e-d41d-4234-aa74-6d8c964506be",
   "metadata": {},
   "outputs": [],
   "source": [
    "# English steps–how does a human solve this?\n",
    "# 1. find out how many Fib numbers we want\n",
    "# 2. write down 1 and 1 as first two Fib numbers\n",
    "# 3. for the rest, add previous 2 Fib numbers"
   ]
  },
  {
   "cell_type": "code",
   "execution_count": 128,
   "id": "0b5133ab-375d-4599-9a4e-87ffc17ef9e6",
   "metadata": {},
   "outputs": [],
   "source": [
    "# pseudocode\n",
    "# 1. ask user how many Fib numbers they want to see\n",
    "# 1a. int-ify and store in variable how_many\n",
    "# 2. set \"previous\" to 1\n",
    "# 3. set \"current\" to 1\n",
    "# 4. print out first 2 Fib numbers\n",
    "# 5. for number from 3 to how_many:\n",
    "# 6.    print previous + current, store that in new\n",
    "# 7.    set previous to current\n",
    "# 8.    set current to new"
   ]
  },
  {
   "cell_type": "code",
   "execution_count": null,
   "id": "183bfd01-d740-4925-8d08-5118652ac3ec",
   "metadata": {},
   "outputs": [],
   "source": [
    "how_many = int(input('How many Fibonacci numbers to print? ')) # 1, 1a\n",
    "previous = 0 # 2, first Fib number\n",
    "current = 1 # 3, second Fib number\n",
    "print(previous, current, end=' ') # 4\n",
    "\n",
    "for count in range(3, how_many + 1): # 5...+1 for Edsger Dijkstra\n",
    "    new = previous + current # 6\n",
    "    print(new, end=' ') # 6 \n",
    "    previous = current # 7\n",
    "    current = new # 8"
   ]
  },
  {
   "cell_type": "code",
   "execution_count": null,
   "id": "21501ed6-8f85-486e-af40-a89f4cd2beb6",
   "metadata": {},
   "outputs": [],
   "source": [
    "max_fib = int(input('Print Fibonacci numbers up to what number? ')) # 1, 1a\n",
    "previous = 0 # 2, first Fib number\n",
    "current = 1 # 3, second Fib number\n",
    "print(previous, current, end=' ') # 4\n",
    "\n",
    "while previous + current < max_fib:\n",
    "    new = previous + current\n",
    "    print(new, end=' ') # 6\n",
    "    previous = current # 7\n",
    "    current = new # 8"
   ]
  },
  {
   "cell_type": "code",
   "execution_count": 130,
   "id": "18371afc-26a4-4938-8352-c25e7eaf909d",
   "metadata": {},
   "outputs": [
    {
     "name": "stdout",
     "output_type": "stream",
     "text": [
      "10\n",
      "9\n",
      "8\n",
      "7\n",
      "6\n",
      "5\n",
      "4\n",
      "3\n"
     ]
    }
   ],
   "source": [
    "# alphabet[10:2:-1]\n",
    "for index in range(10, 2, -1):\n",
    "    print(index)"
   ]
  },
  {
   "cell_type": "code",
   "execution_count": 131,
   "id": "be82d57f-db4d-4a1e-b5d4-82a707828602",
   "metadata": {},
   "outputs": [
    {
     "data": {
      "text/plain": [
       "'Python'"
      ]
     },
     "execution_count": 131,
     "metadata": {},
     "output_type": "execute_result"
    }
   ],
   "source": [
    "'nohtyP'[::-1]"
   ]
  },
  {
   "cell_type": "code",
   "execution_count": 132,
   "id": "fa788910-3f5b-4b40-a1f8-887fb9a9afee",
   "metadata": {},
   "outputs": [
    {
     "data": {
      "text/plain": [
       "1"
      ]
     },
     "execution_count": 132,
     "metadata": {},
     "output_type": "execute_result"
    }
   ],
   "source": [
    "# what do we know about the int() function?\n",
    "int(1.23)"
   ]
  },
  {
   "cell_type": "code",
   "execution_count": 133,
   "id": "ea1e7314-9e8b-4020-b55b-ec917929ac32",
   "metadata": {},
   "outputs": [
    {
     "data": {
      "text/plain": [
       "2"
      ]
     },
     "execution_count": 133,
     "metadata": {},
     "output_type": "execute_result"
    }
   ],
   "source": [
    "int(2)"
   ]
  },
  {
   "cell_type": "code",
   "execution_count": 134,
   "id": "c2243179-0f7b-4f13-8f89-d9b2e1d6b5b7",
   "metadata": {},
   "outputs": [
    {
     "data": {
      "text/plain": [
       "1234"
      ]
     },
     "execution_count": 134,
     "metadata": {},
     "output_type": "execute_result"
    }
   ],
   "source": [
    "int('1234')"
   ]
  },
  {
   "cell_type": "code",
   "execution_count": 135,
   "id": "fd65f489-6d52-4d58-8b26-81bcdd389315",
   "metadata": {},
   "outputs": [
    {
     "data": {
      "text/plain": [
       "'1'"
      ]
     },
     "execution_count": 135,
     "metadata": {},
     "output_type": "execute_result"
    }
   ],
   "source": [
    "str(1)"
   ]
  },
  {
   "cell_type": "code",
   "execution_count": 136,
   "id": "f663263d-385d-4173-8440-e88c519dacfc",
   "metadata": {},
   "outputs": [
    {
     "data": {
      "text/plain": [
       "'1.1'"
      ]
     },
     "execution_count": 136,
     "metadata": {},
     "output_type": "execute_result"
    }
   ],
   "source": [
    "str(1.1)"
   ]
  },
  {
   "cell_type": "code",
   "execution_count": 137,
   "id": "bc217c41-eea5-420e-a44f-09c82b86fae8",
   "metadata": {},
   "outputs": [
    {
     "data": {
      "text/plain": [
       "'1.1'"
      ]
     },
     "execution_count": 137,
     "metadata": {},
     "output_type": "execute_result"
    }
   ],
   "source": [
    "str('1.1')"
   ]
  },
  {
   "cell_type": "code",
   "execution_count": 138,
   "id": "81086184-4082-4608-b6ab-6790d4e473cb",
   "metadata": {},
   "outputs": [
    {
     "data": {
      "text/plain": [
       "\"<module 'math' from '/Library/Frameworks/Python.framework/Versions/3.12/lib/python3.12/lib-dynload/math.cpython-312-darwin.so'>\""
      ]
     },
     "execution_count": 138,
     "metadata": {},
     "output_type": "execute_result"
    }
   ],
   "source": [
    "import math\n",
    "str(math)"
   ]
  },
  {
   "cell_type": "code",
   "execution_count": 139,
   "id": "78c3c3f2-2a4a-4937-99cd-9125576af4b5",
   "metadata": {},
   "outputs": [
    {
     "name": "stdout",
     "output_type": "stream",
     "text": [
      "1\n"
     ]
    }
   ],
   "source": [
    "print(1)"
   ]
  },
  {
   "cell_type": "code",
   "execution_count": 140,
   "id": "d4bfd88a-7ab9-445e-a8a5-68a644b18f41",
   "metadata": {},
   "outputs": [
    {
     "name": "stdout",
     "output_type": "stream",
     "text": [
      "1.1\n"
     ]
    }
   ],
   "source": [
    "print(1.1)"
   ]
  },
  {
   "cell_type": "code",
   "execution_count": 141,
   "id": "f14f9840-a19e-4c72-aaf1-327253781274",
   "metadata": {},
   "outputs": [
    {
     "name": "stdout",
     "output_type": "stream",
     "text": [
      "1.1\n",
      "<module 'math' from '/Library/Frameworks/Python.framework/Versions/3.12/lib/python3.12/lib-dynload/math.cpython-312-darwin.so'>\n"
     ]
    }
   ],
   "source": [
    "print('1.1')\n",
    "print(math)"
   ]
  },
  {
   "cell_type": "code",
   "execution_count": 142,
   "id": "e4fa0086-7e79-4d57-bc64-f45dd3a60a6b",
   "metadata": {},
   "outputs": [
    {
     "data": {
      "text/plain": [
       "12"
      ]
     },
     "execution_count": 142,
     "metadata": {},
     "output_type": "execute_result"
    }
   ],
   "source": [
    "max(3, 1, 2, 12, -12)"
   ]
  },
  {
   "cell_type": "code",
   "execution_count": 143,
   "id": "260dc9a6-9805-4359-9a43-156824d5c046",
   "metadata": {},
   "outputs": [
    {
     "data": {
      "text/plain": [
       "3"
      ]
     },
     "execution_count": 143,
     "metadata": {},
     "output_type": "execute_result"
    }
   ],
   "source": [
    "max(3, 1)"
   ]
  },
  {
   "cell_type": "code",
   "execution_count": 144,
   "id": "105b7153-46a7-4614-80f7-92142f8e2b85",
   "metadata": {},
   "outputs": [
    {
     "data": {
      "text/plain": [
       "1.3"
      ]
     },
     "execution_count": 144,
     "metadata": {},
     "output_type": "execute_result"
    }
   ],
   "source": [
    "max(1.2, 1.3, -1.4, -0.2)"
   ]
  },
  {
   "cell_type": "code",
   "execution_count": 145,
   "id": "78336506-37fc-4f20-bce2-c33ec21f6937",
   "metadata": {},
   "outputs": [
    {
     "data": {
      "text/plain": [
       "'pear'"
      ]
     },
     "execution_count": 145,
     "metadata": {},
     "output_type": "execute_result"
    }
   ],
   "source": [
    "max('fig', 'pear', 'apple')"
   ]
  },
  {
   "cell_type": "code",
   "execution_count": 146,
   "id": "4745240b-5b7f-499a-9638-4e90f3cfbfe2",
   "metadata": {},
   "outputs": [
    {
     "data": {
      "text/plain": [
       "int"
      ]
     },
     "execution_count": 146,
     "metadata": {},
     "output_type": "execute_result"
    }
   ],
   "source": [
    "type(1)"
   ]
  },
  {
   "cell_type": "code",
   "execution_count": 147,
   "id": "7e2b989c-f63d-4de3-ac36-5af98b52c276",
   "metadata": {},
   "outputs": [
    {
     "data": {
      "text/plain": [
       "float"
      ]
     },
     "execution_count": 147,
     "metadata": {},
     "output_type": "execute_result"
    }
   ],
   "source": [
    "type(1.1)"
   ]
  },
  {
   "cell_type": "code",
   "execution_count": 148,
   "id": "74942ee5-a479-412f-b776-29d3b00d3839",
   "metadata": {},
   "outputs": [
    {
     "data": {
      "text/plain": [
       "str"
      ]
     },
     "execution_count": 148,
     "metadata": {},
     "output_type": "execute_result"
    }
   ],
   "source": [
    "type('1.1')"
   ]
  },
  {
   "cell_type": "code",
   "execution_count": 151,
   "id": "3c857ec9-4ede-4f7c-b0d7-b76b956196ad",
   "metadata": {},
   "outputs": [],
   "source": [
    "name = 'something'"
   ]
  },
  {
   "cell_type": "code",
   "execution_count": 153,
   "id": "43577588-5a72-4a55-ba50-46a72049fa60",
   "metadata": {},
   "outputs": [
    {
     "data": {
      "text/plain": [
       "True"
      ]
     },
     "execution_count": 153,
     "metadata": {},
     "output_type": "execute_result"
    }
   ],
   "source": [
    "name.endswith('ing')"
   ]
  },
  {
   "cell_type": "code",
   "execution_count": 154,
   "id": "364ae100-3273-42e9-a353-a9d22099186b",
   "metadata": {},
   "outputs": [],
   "source": [
    "number = 12345"
   ]
  },
  {
   "cell_type": "code",
   "execution_count": 155,
   "id": "579dad77-8611-490d-99c5-27c326ec2c37",
   "metadata": {
    "scrolled": true
   },
   "outputs": [
    {
     "ename": "AttributeError",
     "evalue": "'int' object has no attribute 'endswith'",
     "output_type": "error",
     "traceback": [
      "\u001b[0;31m---------------------------------------------------------------------------\u001b[0m",
      "\u001b[0;31mAttributeError\u001b[0m                            Traceback (most recent call last)",
      "Cell \u001b[0;32mIn[155], line 1\u001b[0m\n\u001b[0;32m----> 1\u001b[0m \u001b[43mnumber\u001b[49m\u001b[38;5;241;43m.\u001b[39;49m\u001b[43mendswith\u001b[49m(\u001b[38;5;241m5\u001b[39m)\n",
      "\u001b[0;31mAttributeError\u001b[0m: 'int' object has no attribute 'endswith'"
     ]
    }
   ],
   "source": [
    "number.endswith(5)"
   ]
  },
  {
   "cell_type": "code",
   "execution_count": 159,
   "id": "3278b40e-80d8-4c65-9561-2a69e201438d",
   "metadata": {},
   "outputs": [
    {
     "data": {
      "text/plain": [
       "True"
      ]
     },
     "execution_count": 159,
     "metadata": {},
     "output_type": "execute_result"
    }
   ],
   "source": [
    "str(number).endswith('45')"
   ]
  },
  {
   "cell_type": "code",
   "execution_count": 160,
   "id": "7be37d36-1a77-467c-ba1b-bcfa0f0b4112",
   "metadata": {},
   "outputs": [
    {
     "data": {
      "text/plain": [
       "'3'"
      ]
     },
     "execution_count": 160,
     "metadata": {},
     "output_type": "execute_result"
    }
   ],
   "source": [
    "str(number)[2]"
   ]
  },
  {
   "cell_type": "code",
   "execution_count": 161,
   "id": "ad4817ef-97a0-4f98-80d5-03a1e08cde1c",
   "metadata": {},
   "outputs": [
    {
     "ename": "TypeError",
     "evalue": "'int' object is not subscriptable",
     "output_type": "error",
     "traceback": [
      "\u001b[0;31m---------------------------------------------------------------------------\u001b[0m",
      "\u001b[0;31mTypeError\u001b[0m                                 Traceback (most recent call last)",
      "Cell \u001b[0;32mIn[161], line 1\u001b[0m\n\u001b[0;32m----> 1\u001b[0m \u001b[43mnumber\u001b[49m\u001b[43m[\u001b[49m\u001b[38;5;241;43m2\u001b[39;49m\u001b[43m]\u001b[49m\n",
      "\u001b[0;31mTypeError\u001b[0m: 'int' object is not subscriptable"
     ]
    }
   ],
   "source": [
    "number[2]"
   ]
  },
  {
   "cell_type": "code",
   "execution_count": 165,
   "id": "3c4795fc-4d39-4a58-9b96-529447365c22",
   "metadata": {},
   "outputs": [],
   "source": [
    "number = 12345"
   ]
  },
  {
   "cell_type": "code",
   "execution_count": 166,
   "id": "4b62e026-648b-4341-a378-b352ba17d7bc",
   "metadata": {},
   "outputs": [
    {
     "data": {
      "text/plain": [
       "5"
      ]
     },
     "execution_count": 166,
     "metadata": {},
     "output_type": "execute_result"
    }
   ],
   "source": [
    "number % 10"
   ]
  },
  {
   "cell_type": "code",
   "execution_count": 167,
   "id": "3d382614-ad99-4a19-9a9a-4159d99e5d6d",
   "metadata": {},
   "outputs": [],
   "source": [
    "number = number // 10"
   ]
  },
  {
   "cell_type": "code",
   "execution_count": 168,
   "id": "3d365641-3337-43ba-8896-d2d2abfe48d3",
   "metadata": {},
   "outputs": [
    {
     "data": {
      "text/plain": [
       "1234"
      ]
     },
     "execution_count": 168,
     "metadata": {},
     "output_type": "execute_result"
    }
   ],
   "source": [
    "number"
   ]
  },
  {
   "cell_type": "code",
   "execution_count": 169,
   "id": "e11c48e6-1829-460e-85fc-d3fcbf641836",
   "metadata": {},
   "outputs": [
    {
     "data": {
      "text/plain": [
       "4"
      ]
     },
     "execution_count": 169,
     "metadata": {},
     "output_type": "execute_result"
    }
   ],
   "source": [
    "number % 10"
   ]
  },
  {
   "cell_type": "code",
   "execution_count": 170,
   "id": "9aa3ecba-5e40-4b84-a246-5fbac9c700d6",
   "metadata": {},
   "outputs": [
    {
     "data": {
      "text/plain": [
       "123"
      ]
     },
     "execution_count": 170,
     "metadata": {},
     "output_type": "execute_result"
    }
   ],
   "source": [
    "number // 10"
   ]
  },
  {
   "cell_type": "code",
   "execution_count": 171,
   "id": "7291ee95-8938-44b5-948d-b215c4f316b8",
   "metadata": {},
   "outputs": [
    {
     "name": "stdout",
     "output_type": "stream",
     "text": [
      "1\n",
      "2\n",
      "3\n",
      "4\n",
      "5\n"
     ]
    }
   ],
   "source": [
    "number = 12345\n",
    "for digit in str(number):\n",
    "    print(digit)"
   ]
  },
  {
   "cell_type": "code",
   "execution_count": 172,
   "id": "fc5f56bd-8bbe-472f-97ed-697bbd6e7139",
   "metadata": {},
   "outputs": [
    {
     "name": "stdout",
     "output_type": "stream",
     "text": [
      "P\n",
      "y\n",
      "t\n",
      "h\n",
      "o\n",
      "n\n"
     ]
    }
   ],
   "source": [
    "for letter in 'Python':\n",
    "    print(letter)"
   ]
  },
  {
   "cell_type": "code",
   "execution_count": 173,
   "id": "d7c617e2-d42b-4130-89df-aa32eeb7db6c",
   "metadata": {},
   "outputs": [
    {
     "name": "stdout",
     "output_type": "stream",
     "text": [
      "5\n",
      "4\n",
      "3\n",
      "2\n",
      "1\n"
     ]
    }
   ],
   "source": [
    "for digit in str(number)[::-1]:\n",
    "    print(digit)"
   ]
  },
  {
   "cell_type": "code",
   "execution_count": 174,
   "id": "53b9b90c-46fa-4396-9774-79b692adefec",
   "metadata": {},
   "outputs": [],
   "source": [
    "# what if we want total up the digits\n",
    "number = 12345\n",
    "total_digits = 0\n",
    "\n",
    "for digit in str(number):\n",
    "    total_digits = total_digits + int(digit)"
   ]
  },
  {
   "cell_type": "code",
   "execution_count": 178,
   "id": "1391b6ca-dee2-4085-b648-f082e32b7ddb",
   "metadata": {},
   "outputs": [
    {
     "name": "stdout",
     "output_type": "stream",
     "text": [
      "s\n",
      "t\n",
      "r\n",
      "i\n",
      "n\n",
      "g\n"
     ]
    }
   ],
   "source": [
    "for letter in 'string':\n",
    "    print(letter)"
   ]
  },
  {
   "cell_type": "code",
   "execution_count": 179,
   "id": "ab28ee29-ad69-448e-8dcd-1dfab7a23601",
   "metadata": {},
   "outputs": [],
   "source": [
    "string = 'something'"
   ]
  },
  {
   "cell_type": "code",
   "execution_count": 180,
   "id": "2ec63a6d-18ed-436c-81f0-8d47ab68f5a6",
   "metadata": {},
   "outputs": [
    {
     "name": "stdout",
     "output_type": "stream",
     "text": [
      "Help on built-in function find:\n",
      "\n",
      "find(...) method of builtins.str instance\n",
      "    S.find(sub[, start[, end]]) -> int\n",
      "\n",
      "    Return the lowest index in S where substring sub is found,\n",
      "    such that sub is contained within S[start:end].  Optional\n",
      "    arguments start and end are interpreted as in slice notation.\n",
      "\n",
      "    Return -1 on failure.\n",
      "\n"
     ]
    }
   ],
   "source": [
    "help(string.find)"
   ]
  },
  {
   "cell_type": "code",
   "execution_count": 181,
   "id": "8f0fea6d-803a-4aaa-a3bb-74d828460b38",
   "metadata": {},
   "outputs": [
    {
     "data": {
      "text/plain": [
       "'SOMETHING'"
      ]
     },
     "execution_count": 181,
     "metadata": {},
     "output_type": "execute_result"
    }
   ],
   "source": [
    "string.upper()"
   ]
  },
  {
   "cell_type": "code",
   "execution_count": 182,
   "id": "03f7ad3f-0c50-4dae-a81b-8b6e0e4225fb",
   "metadata": {},
   "outputs": [
    {
     "data": {
      "text/plain": [
       "4399448792"
      ]
     },
     "execution_count": 182,
     "metadata": {},
     "output_type": "execute_result"
    }
   ],
   "source": [
    "id(str)"
   ]
  },
  {
   "cell_type": "code",
   "execution_count": 183,
   "id": "729ae517-637c-44bc-bbd3-b6cf1273e57d",
   "metadata": {},
   "outputs": [
    {
     "data": {
      "text/plain": [
       "4399406032"
      ]
     },
     "execution_count": 183,
     "metadata": {},
     "output_type": "execute_result"
    }
   ],
   "source": [
    "id(int)"
   ]
  },
  {
   "cell_type": "code",
   "execution_count": 184,
   "id": "01cc1778-ec45-4ec0-95a6-33cb33abaf33",
   "metadata": {},
   "outputs": [
    {
     "data": {
      "text/plain": [
       "4552770160"
      ]
     },
     "execution_count": 184,
     "metadata": {},
     "output_type": "execute_result"
    }
   ],
   "source": [
    "id(string)"
   ]
  },
  {
   "cell_type": "code",
   "execution_count": 185,
   "id": "a5adc44a-e89b-4b73-8908-87e86f174683",
   "metadata": {},
   "outputs": [
    {
     "name": "stdout",
     "output_type": "stream",
     "text": [
      "Help on class str in module builtins:\n",
      "\n",
      "class str(object)\n",
      " |  str(object='') -> str\n",
      " |  str(bytes_or_buffer[, encoding[, errors]]) -> str\n",
      " |\n",
      " |  Create a new string object from the given object. If encoding or\n",
      " |  errors is specified, then the object must expose a data buffer\n",
      " |  that will be decoded using the given encoding and error handler.\n",
      " |  Otherwise, returns the result of object.__str__() (if defined)\n",
      " |  or repr(object).\n",
      " |  encoding defaults to sys.getdefaultencoding().\n",
      " |  errors defaults to 'strict'.\n",
      " |\n",
      " |  Methods defined here:\n",
      " |\n",
      " |  __add__(self, value, /)\n",
      " |      Return self+value.\n",
      " |\n",
      " |  __contains__(self, key, /)\n",
      " |      Return bool(key in self).\n",
      " |\n",
      " |  __eq__(self, value, /)\n",
      " |      Return self==value.\n",
      " |\n",
      " |  __format__(self, format_spec, /)\n",
      " |      Return a formatted version of the string as described by format_spec.\n",
      " |\n",
      " |  __ge__(self, value, /)\n",
      " |      Return self>=value.\n",
      " |\n",
      " |  __getitem__(self, key, /)\n",
      " |      Return self[key].\n",
      " |\n",
      " |  __getnewargs__(...)\n",
      " |\n",
      " |  __gt__(self, value, /)\n",
      " |      Return self>value.\n",
      " |\n",
      " |  __hash__(self, /)\n",
      " |      Return hash(self).\n",
      " |\n",
      " |  __iter__(self, /)\n",
      " |      Implement iter(self).\n",
      " |\n",
      " |  __le__(self, value, /)\n",
      " |      Return self<=value.\n",
      " |\n",
      " |  __len__(self, /)\n",
      " |      Return len(self).\n",
      " |\n",
      " |  __lt__(self, value, /)\n",
      " |      Return self<value.\n",
      " |\n",
      " |  __mod__(self, value, /)\n",
      " |      Return self%value.\n",
      " |\n",
      " |  __mul__(self, value, /)\n",
      " |      Return self*value.\n",
      " |\n",
      " |  __ne__(self, value, /)\n",
      " |      Return self!=value.\n",
      " |\n",
      " |  __repr__(self, /)\n",
      " |      Return repr(self).\n",
      " |\n",
      " |  __rmod__(self, value, /)\n",
      " |      Return value%self.\n",
      " |\n",
      " |  __rmul__(self, value, /)\n",
      " |      Return value*self.\n",
      " |\n",
      " |  __sizeof__(self, /)\n",
      " |      Return the size of the string in memory, in bytes.\n",
      " |\n",
      " |  __str__(self, /)\n",
      " |      Return str(self).\n",
      " |\n",
      " |  capitalize(self, /)\n",
      " |      Return a capitalized version of the string.\n",
      " |\n",
      " |      More specifically, make the first character have upper case and the rest lower\n",
      " |      case.\n",
      " |\n",
      " |  casefold(self, /)\n",
      " |      Return a version of the string suitable for caseless comparisons.\n",
      " |\n",
      " |  center(self, width, fillchar=' ', /)\n",
      " |      Return a centered string of length width.\n",
      " |\n",
      " |      Padding is done using the specified fill character (default is a space).\n",
      " |\n",
      " |  count(...)\n",
      " |      S.count(sub[, start[, end]]) -> int\n",
      " |\n",
      " |      Return the number of non-overlapping occurrences of substring sub in\n",
      " |      string S[start:end].  Optional arguments start and end are\n",
      " |      interpreted as in slice notation.\n",
      " |\n",
      " |  encode(self, /, encoding='utf-8', errors='strict')\n",
      " |      Encode the string using the codec registered for encoding.\n",
      " |\n",
      " |      encoding\n",
      " |        The encoding in which to encode the string.\n",
      " |      errors\n",
      " |        The error handling scheme to use for encoding errors.\n",
      " |        The default is 'strict' meaning that encoding errors raise a\n",
      " |        UnicodeEncodeError.  Other possible values are 'ignore', 'replace' and\n",
      " |        'xmlcharrefreplace' as well as any other name registered with\n",
      " |        codecs.register_error that can handle UnicodeEncodeErrors.\n",
      " |\n",
      " |  endswith(...)\n",
      " |      S.endswith(suffix[, start[, end]]) -> bool\n",
      " |\n",
      " |      Return True if S ends with the specified suffix, False otherwise.\n",
      " |      With optional start, test S beginning at that position.\n",
      " |      With optional end, stop comparing S at that position.\n",
      " |      suffix can also be a tuple of strings to try.\n",
      " |\n",
      " |  expandtabs(self, /, tabsize=8)\n",
      " |      Return a copy where all tab characters are expanded using spaces.\n",
      " |\n",
      " |      If tabsize is not given, a tab size of 8 characters is assumed.\n",
      " |\n",
      " |  find(...)\n",
      " |      S.find(sub[, start[, end]]) -> int\n",
      " |\n",
      " |      Return the lowest index in S where substring sub is found,\n",
      " |      such that sub is contained within S[start:end].  Optional\n",
      " |      arguments start and end are interpreted as in slice notation.\n",
      " |\n",
      " |      Return -1 on failure.\n",
      " |\n",
      " |  format(...)\n",
      " |      S.format(*args, **kwargs) -> str\n",
      " |\n",
      " |      Return a formatted version of S, using substitutions from args and kwargs.\n",
      " |      The substitutions are identified by braces ('{' and '}').\n",
      " |\n",
      " |  format_map(...)\n",
      " |      S.format_map(mapping) -> str\n",
      " |\n",
      " |      Return a formatted version of S, using substitutions from mapping.\n",
      " |      The substitutions are identified by braces ('{' and '}').\n",
      " |\n",
      " |  index(...)\n",
      " |      S.index(sub[, start[, end]]) -> int\n",
      " |\n",
      " |      Return the lowest index in S where substring sub is found,\n",
      " |      such that sub is contained within S[start:end].  Optional\n",
      " |      arguments start and end are interpreted as in slice notation.\n",
      " |\n",
      " |      Raises ValueError when the substring is not found.\n",
      " |\n",
      " |  isalnum(self, /)\n",
      " |      Return True if the string is an alpha-numeric string, False otherwise.\n",
      " |\n",
      " |      A string is alpha-numeric if all characters in the string are alpha-numeric and\n",
      " |      there is at least one character in the string.\n",
      " |\n",
      " |  isalpha(self, /)\n",
      " |      Return True if the string is an alphabetic string, False otherwise.\n",
      " |\n",
      " |      A string is alphabetic if all characters in the string are alphabetic and there\n",
      " |      is at least one character in the string.\n",
      " |\n",
      " |  isascii(self, /)\n",
      " |      Return True if all characters in the string are ASCII, False otherwise.\n",
      " |\n",
      " |      ASCII characters have code points in the range U+0000-U+007F.\n",
      " |      Empty string is ASCII too.\n",
      " |\n",
      " |  isdecimal(self, /)\n",
      " |      Return True if the string is a decimal string, False otherwise.\n",
      " |\n",
      " |      A string is a decimal string if all characters in the string are decimal and\n",
      " |      there is at least one character in the string.\n",
      " |\n",
      " |  isdigit(self, /)\n",
      " |      Return True if the string is a digit string, False otherwise.\n",
      " |\n",
      " |      A string is a digit string if all characters in the string are digits and there\n",
      " |      is at least one character in the string.\n",
      " |\n",
      " |  isidentifier(self, /)\n",
      " |      Return True if the string is a valid Python identifier, False otherwise.\n",
      " |\n",
      " |      Call keyword.iskeyword(s) to test whether string s is a reserved identifier,\n",
      " |      such as \"def\" or \"class\".\n",
      " |\n",
      " |  islower(self, /)\n",
      " |      Return True if the string is a lowercase string, False otherwise.\n",
      " |\n",
      " |      A string is lowercase if all cased characters in the string are lowercase and\n",
      " |      there is at least one cased character in the string.\n",
      " |\n",
      " |  isnumeric(self, /)\n",
      " |      Return True if the string is a numeric string, False otherwise.\n",
      " |\n",
      " |      A string is numeric if all characters in the string are numeric and there is at\n",
      " |      least one character in the string.\n",
      " |\n",
      " |  isprintable(self, /)\n",
      " |      Return True if the string is printable, False otherwise.\n",
      " |\n",
      " |      A string is printable if all of its characters are considered printable in\n",
      " |      repr() or if it is empty.\n",
      " |\n",
      " |  isspace(self, /)\n",
      " |      Return True if the string is a whitespace string, False otherwise.\n",
      " |\n",
      " |      A string is whitespace if all characters in the string are whitespace and there\n",
      " |      is at least one character in the string.\n",
      " |\n",
      " |  istitle(self, /)\n",
      " |      Return True if the string is a title-cased string, False otherwise.\n",
      " |\n",
      " |      In a title-cased string, upper- and title-case characters may only\n",
      " |      follow uncased characters and lowercase characters only cased ones.\n",
      " |\n",
      " |  isupper(self, /)\n",
      " |      Return True if the string is an uppercase string, False otherwise.\n",
      " |\n",
      " |      A string is uppercase if all cased characters in the string are uppercase and\n",
      " |      there is at least one cased character in the string.\n",
      " |\n",
      " |  join(self, iterable, /)\n",
      " |      Concatenate any number of strings.\n",
      " |\n",
      " |      The string whose method is called is inserted in between each given string.\n",
      " |      The result is returned as a new string.\n",
      " |\n",
      " |      Example: '.'.join(['ab', 'pq', 'rs']) -> 'ab.pq.rs'\n",
      " |\n",
      " |  ljust(self, width, fillchar=' ', /)\n",
      " |      Return a left-justified string of length width.\n",
      " |\n",
      " |      Padding is done using the specified fill character (default is a space).\n",
      " |\n",
      " |  lower(self, /)\n",
      " |      Return a copy of the string converted to lowercase.\n",
      " |\n",
      " |  lstrip(self, chars=None, /)\n",
      " |      Return a copy of the string with leading whitespace removed.\n",
      " |\n",
      " |      If chars is given and not None, remove characters in chars instead.\n",
      " |\n",
      " |  partition(self, sep, /)\n",
      " |      Partition the string into three parts using the given separator.\n",
      " |\n",
      " |      This will search for the separator in the string.  If the separator is found,\n",
      " |      returns a 3-tuple containing the part before the separator, the separator\n",
      " |      itself, and the part after it.\n",
      " |\n",
      " |      If the separator is not found, returns a 3-tuple containing the original string\n",
      " |      and two empty strings.\n",
      " |\n",
      " |  removeprefix(self, prefix, /)\n",
      " |      Return a str with the given prefix string removed if present.\n",
      " |\n",
      " |      If the string starts with the prefix string, return string[len(prefix):].\n",
      " |      Otherwise, return a copy of the original string.\n",
      " |\n",
      " |  removesuffix(self, suffix, /)\n",
      " |      Return a str with the given suffix string removed if present.\n",
      " |\n",
      " |      If the string ends with the suffix string and that suffix is not empty,\n",
      " |      return string[:-len(suffix)]. Otherwise, return a copy of the original\n",
      " |      string.\n",
      " |\n",
      " |  replace(self, old, new, count=-1, /)\n",
      " |      Return a copy with all occurrences of substring old replaced by new.\n",
      " |\n",
      " |        count\n",
      " |          Maximum number of occurrences to replace.\n",
      " |          -1 (the default value) means replace all occurrences.\n",
      " |\n",
      " |      If the optional argument count is given, only the first count occurrences are\n",
      " |      replaced.\n",
      " |\n",
      " |  rfind(...)\n",
      " |      S.rfind(sub[, start[, end]]) -> int\n",
      " |\n",
      " |      Return the highest index in S where substring sub is found,\n",
      " |      such that sub is contained within S[start:end].  Optional\n",
      " |      arguments start and end are interpreted as in slice notation.\n",
      " |\n",
      " |      Return -1 on failure.\n",
      " |\n",
      " |  rindex(...)\n",
      " |      S.rindex(sub[, start[, end]]) -> int\n",
      " |\n",
      " |      Return the highest index in S where substring sub is found,\n",
      " |      such that sub is contained within S[start:end].  Optional\n",
      " |      arguments start and end are interpreted as in slice notation.\n",
      " |\n",
      " |      Raises ValueError when the substring is not found.\n",
      " |\n",
      " |  rjust(self, width, fillchar=' ', /)\n",
      " |      Return a right-justified string of length width.\n",
      " |\n",
      " |      Padding is done using the specified fill character (default is a space).\n",
      " |\n",
      " |  rpartition(self, sep, /)\n",
      " |      Partition the string into three parts using the given separator.\n",
      " |\n",
      " |      This will search for the separator in the string, starting at the end. If\n",
      " |      the separator is found, returns a 3-tuple containing the part before the\n",
      " |      separator, the separator itself, and the part after it.\n",
      " |\n",
      " |      If the separator is not found, returns a 3-tuple containing two empty strings\n",
      " |      and the original string.\n",
      " |\n",
      " |  rsplit(self, /, sep=None, maxsplit=-1)\n",
      " |      Return a list of the substrings in the string, using sep as the separator string.\n",
      " |\n",
      " |        sep\n",
      " |          The separator used to split the string.\n",
      " |\n",
      " |          When set to None (the default value), will split on any whitespace\n",
      " |          character (including \\n \\r \\t \\f and spaces) and will discard\n",
      " |          empty strings from the result.\n",
      " |        maxsplit\n",
      " |          Maximum number of splits.\n",
      " |          -1 (the default value) means no limit.\n",
      " |\n",
      " |      Splitting starts at the end of the string and works to the front.\n",
      " |\n",
      " |  rstrip(self, chars=None, /)\n",
      " |      Return a copy of the string with trailing whitespace removed.\n",
      " |\n",
      " |      If chars is given and not None, remove characters in chars instead.\n",
      " |\n",
      " |  split(self, /, sep=None, maxsplit=-1)\n",
      " |      Return a list of the substrings in the string, using sep as the separator string.\n",
      " |\n",
      " |        sep\n",
      " |          The separator used to split the string.\n",
      " |\n",
      " |          When set to None (the default value), will split on any whitespace\n",
      " |          character (including \\n \\r \\t \\f and spaces) and will discard\n",
      " |          empty strings from the result.\n",
      " |        maxsplit\n",
      " |          Maximum number of splits.\n",
      " |          -1 (the default value) means no limit.\n",
      " |\n",
      " |      Splitting starts at the front of the string and works to the end.\n",
      " |\n",
      " |      Note, str.split() is mainly useful for data that has been intentionally\n",
      " |      delimited.  With natural text that includes punctuation, consider using\n",
      " |      the regular expression module.\n",
      " |\n",
      " |  splitlines(self, /, keepends=False)\n",
      " |      Return a list of the lines in the string, breaking at line boundaries.\n",
      " |\n",
      " |      Line breaks are not included in the resulting list unless keepends is given and\n",
      " |      true.\n",
      " |\n",
      " |  startswith(...)\n",
      " |      S.startswith(prefix[, start[, end]]) -> bool\n",
      " |\n",
      " |      Return True if S starts with the specified prefix, False otherwise.\n",
      " |      With optional start, test S beginning at that position.\n",
      " |      With optional end, stop comparing S at that position.\n",
      " |      prefix can also be a tuple of strings to try.\n",
      " |\n",
      " |  strip(self, chars=None, /)\n",
      " |      Return a copy of the string with leading and trailing whitespace removed.\n",
      " |\n",
      " |      If chars is given and not None, remove characters in chars instead.\n",
      " |\n",
      " |  swapcase(self, /)\n",
      " |      Convert uppercase characters to lowercase and lowercase characters to uppercase.\n",
      " |\n",
      " |  title(self, /)\n",
      " |      Return a version of the string where each word is titlecased.\n",
      " |\n",
      " |      More specifically, words start with uppercased characters and all remaining\n",
      " |      cased characters have lower case.\n",
      " |\n",
      " |  translate(self, table, /)\n",
      " |      Replace each character in the string using the given translation table.\n",
      " |\n",
      " |        table\n",
      " |          Translation table, which must be a mapping of Unicode ordinals to\n",
      " |          Unicode ordinals, strings, or None.\n",
      " |\n",
      " |      The table must implement lookup/indexing via __getitem__, for instance a\n",
      " |      dictionary or list.  If this operation raises LookupError, the character is\n",
      " |      left untouched.  Characters mapped to None are deleted.\n",
      " |\n",
      " |  upper(self, /)\n",
      " |      Return a copy of the string converted to uppercase.\n",
      " |\n",
      " |  zfill(self, width, /)\n",
      " |      Pad a numeric string with zeros on the left, to fill a field of the given width.\n",
      " |\n",
      " |      The string is never truncated.\n",
      " |\n",
      " |  ----------------------------------------------------------------------\n",
      " |  Static methods defined here:\n",
      " |\n",
      " |  __new__(*args, **kwargs)\n",
      " |      Create and return a new object.  See help(type) for accurate signature.\n",
      " |\n",
      " |  maketrans(...)\n",
      " |      Return a translation table usable for str.translate().\n",
      " |\n",
      " |      If there is only one argument, it must be a dictionary mapping Unicode\n",
      " |      ordinals (integers) or characters to Unicode ordinals, strings or None.\n",
      " |      Character keys will be then converted to ordinals.\n",
      " |      If there are two arguments, they must be strings of equal length, and\n",
      " |      in the resulting dictionary, each character in x will be mapped to the\n",
      " |      character at the same position in y. If there is a third argument, it\n",
      " |      must be a string, whose characters will be mapped to None in the result.\n",
      "\n"
     ]
    }
   ],
   "source": [
    "help(str)"
   ]
  },
  {
   "cell_type": "code",
   "execution_count": 186,
   "id": "f8efadc2-525a-4ed8-b913-ecf6464207d6",
   "metadata": {},
   "outputs": [
    {
     "name": "stdout",
     "output_type": "stream",
     "text": [
      "something\n"
     ]
    }
   ],
   "source": [
    "print(string)"
   ]
  },
  {
   "cell_type": "code",
   "execution_count": 187,
   "id": "d2db2ffd-2d72-4eaf-b8ee-cabae356d4eb",
   "metadata": {},
   "outputs": [],
   "source": [
    "number = 123"
   ]
  },
  {
   "cell_type": "code",
   "execution_count": 188,
   "id": "f7ec4faf-33d5-4890-9b7c-224f1f681c58",
   "metadata": {},
   "outputs": [
    {
     "name": "stdout",
     "output_type": "stream",
     "text": [
      "123\n"
     ]
    }
   ],
   "source": [
    "print(number)"
   ]
  },
  {
   "cell_type": "code",
   "execution_count": 189,
   "id": "346bdae1-0eba-44ad-af40-88cd924ee151",
   "metadata": {},
   "outputs": [
    {
     "data": {
      "text/plain": [
       "123.0"
      ]
     },
     "execution_count": 189,
     "metadata": {},
     "output_type": "execute_result"
    }
   ],
   "source": [
    "float(number) # generates a float version of number"
   ]
  },
  {
   "cell_type": "code",
   "execution_count": 190,
   "id": "26984e42-5b2e-4500-a245-3eba4845bfd0",
   "metadata": {},
   "outputs": [
    {
     "data": {
      "text/plain": [
       "123"
      ]
     },
     "execution_count": 190,
     "metadata": {},
     "output_type": "execute_result"
    }
   ],
   "source": [
    "number"
   ]
  },
  {
   "cell_type": "code",
   "execution_count": 191,
   "id": "1b371c9b-1c93-4497-86ac-9e1c332400b9",
   "metadata": {},
   "outputs": [],
   "source": [
    "number = float(number)"
   ]
  },
  {
   "cell_type": "code",
   "execution_count": 192,
   "id": "e0f4b903-38b8-4260-8bce-7966c6ab17ff",
   "metadata": {},
   "outputs": [
    {
     "data": {
      "text/plain": [
       "123.0"
      ]
     },
     "execution_count": 192,
     "metadata": {},
     "output_type": "execute_result"
    }
   ],
   "source": [
    "number"
   ]
  },
  {
   "cell_type": "code",
   "execution_count": 193,
   "id": "b3038c87-96db-4e81-9194-464be5793d97",
   "metadata": {},
   "outputs": [
    {
     "data": {
      "text/plain": [
       "'123.0'"
      ]
     },
     "execution_count": 193,
     "metadata": {},
     "output_type": "execute_result"
    }
   ],
   "source": [
    "str(number)"
   ]
  },
  {
   "cell_type": "code",
   "execution_count": 194,
   "id": "e51fe4a0-dbb5-4cb1-8d76-4c659ecf422d",
   "metadata": {},
   "outputs": [
    {
     "data": {
      "text/plain": [
       "123.0"
      ]
     },
     "execution_count": 194,
     "metadata": {},
     "output_type": "execute_result"
    }
   ],
   "source": [
    "number"
   ]
  },
  {
   "cell_type": "code",
   "execution_count": 195,
   "id": "31a22be7-8edd-4998-9d61-b1fca689569c",
   "metadata": {},
   "outputs": [],
   "source": [
    "number = 1"
   ]
  },
  {
   "cell_type": "code",
   "execution_count": null,
   "id": "cc1d9175-2d76-472d-9ca8-3d056d6006db",
   "metadata": {},
   "outputs": [],
   "source": [
    "number = 2 # putting a new value into number "
   ]
  },
  {
   "cell_type": "code",
   "execution_count": 198,
   "id": "e79ec4ef-067c-4d21-8d4a-37967568b919",
   "metadata": {},
   "outputs": [
    {
     "data": {
      "text/plain": [
       "'a'"
      ]
     },
     "execution_count": 198,
     "metadata": {},
     "output_type": "execute_result"
    }
   ],
   "source": [
    "'A'.swapcase()"
   ]
  },
  {
   "cell_type": "code",
   "execution_count": 199,
   "id": "f62245ee-5446-4a95-86aa-7779d60fdffc",
   "metadata": {},
   "outputs": [
    {
     "data": {
      "text/plain": [
       "'xlphxbet'"
      ]
     },
     "execution_count": 199,
     "metadata": {},
     "output_type": "execute_result"
    }
   ],
   "source": [
    "'alphabet'.replace('a', 'x')"
   ]
  },
  {
   "cell_type": "code",
   "execution_count": 200,
   "id": "7810b59a-787a-4460-a266-482d132e90ca",
   "metadata": {},
   "outputs": [
    {
     "data": {
      "text/plain": [
       "'alphabet'"
      ]
     },
     "execution_count": 200,
     "metadata": {},
     "output_type": "execute_result"
    }
   ],
   "source": [
    "'alphabet'.replace('ae', 'x')"
   ]
  },
  {
   "cell_type": "code",
   "execution_count": 201,
   "id": "83475f73-a1c1-4c9d-9306-2c25b260722d",
   "metadata": {},
   "outputs": [
    {
     "data": {
      "text/plain": [
       "'xlphxbxt'"
      ]
     },
     "execution_count": 201,
     "metadata": {},
     "output_type": "execute_result"
    }
   ],
   "source": [
    "'xlphxbet'.replace('e', 'x')"
   ]
  },
  {
   "cell_type": "code",
   "execution_count": 202,
   "id": "b3a98af6-bda5-425b-9c53-8ea405650623",
   "metadata": {},
   "outputs": [
    {
     "data": {
      "text/plain": [
       "'-'"
      ]
     },
     "execution_count": 202,
     "metadata": {},
     "output_type": "execute_result"
    }
   ],
   "source": [
    "'-'.upper()"
   ]
  },
  {
   "cell_type": "code",
   "execution_count": 203,
   "id": "752fb3db-4870-431d-9f19-5ddcfab14dde",
   "metadata": {},
   "outputs": [
    {
     "data": {
      "text/plain": [
       "' '"
      ]
     },
     "execution_count": 203,
     "metadata": {},
     "output_type": "execute_result"
    }
   ],
   "source": [
    "' '.upper()"
   ]
  },
  {
   "cell_type": "markdown",
   "id": "9ae42a80-d92e-4e1b-b1e8-c6cb9f9a872b",
   "metadata": {},
   "source": [
    "## Quick Lab: String Functions\n",
    "* write a Python program to read in a string and then print it out as\n",
    "  * a title\n",
    "  * all upper case\n",
    "  * all lower case\n",
    "* also, replace all vowels in the string with the letter 'x'\n",
    "   * you can use the __`.replace()`__ method to replace each vowel, one at a time"
   ]
  },
  {
   "cell_type": "code",
   "execution_count": 204,
   "id": "ff1caf38-48fd-4e8a-9d36-4fc385933588",
   "metadata": {},
   "outputs": [],
   "source": [
    "# steps as a human, perhaps writing on a whiteboard\n",
    "# 1. ask for a sentence/phrase/etc.\n",
    "# 2. print that sentence as a title\n",
    "# 3. print that sentence in all UPPER CASE\n",
    "# 4. print that sentence in all lower case\n",
    "# 5. rewrite the sentence with x's in the place of all vowels"
   ]
  },
  {
   "cell_type": "code",
   "execution_count": null,
   "id": "e23e4510-83ad-4e10-abeb-e6c966e5b360",
   "metadata": {},
   "outputs": [],
   "source": [
    "# pseudocode\n",
    "# 1. get sentence from the user\n",
    "# 2. call .title()\n",
    "# 3. call .upper()\n",
    "# 4. call .lower()\n",
    "# 5. for each vowel:\n",
    "# 6.    overwrite sentence with .replace(vowel, 'x')"
   ]
  },
  {
   "cell_type": "code",
   "execution_count": 206,
   "id": "e6c7ba0a-88df-4a20-8afc-86d9a8d62a95",
   "metadata": {},
   "outputs": [
    {
     "name": "stdin",
     "output_type": "stream",
     "text": [
      "enter a sentence:  Pack my box with five dozen liquor jugs\n"
     ]
    },
    {
     "name": "stdout",
     "output_type": "stream",
     "text": [
      "Pack My Box With Five Dozen Liquor Jugs\n",
      "PACK MY BOX WITH FIVE DOZEN LIQUOR JUGS\n",
      "pack my box with five dozen liquor jugs\n",
      "after replacing a ... Pxck my box with five dozen liquor jugs\n",
      "after replacing e ... Pxck my box with fivx dozxn liquor jugs\n",
      "after replacing i ... Pxck my box wxth fxvx dozxn lxquor jugs\n",
      "after replacing o ... Pxck my bxx wxth fxvx dxzxn lxquxr jugs\n",
      "after replacing u ... Pxck my bxx wxth fxvx dxzxn lxqxxr jxgs\n"
     ]
    }
   ],
   "source": [
    "sentence = input('enter a sentence: ') # 1 \n",
    "print(sentence.title(), sentence.upper(), sentence.lower(), sep='\\n') # 2, 3, 4\n",
    "for vowel in 'aeiou': # 5\n",
    "    sentence = sentence.replace(vowel, 'x')\n",
    "    print('after replacing', vowel, '...', sentence)"
   ]
  },
  {
   "cell_type": "markdown",
   "id": "93adcb93-c82b-4df9-80fc-468a04b17f10",
   "metadata": {},
   "source": [
    "## Lab: String Functions\n",
    "* write a Python program to read in a string and print it out such that\n",
    "  * the first, third, fifth, etc. letters are **lower** case\n",
    "  * the second, fourth, sixth, etc. letters are **UPPER** case\n",
    "  * e.g., if the input is __Guido van Rossum__, the output would be:\n",
    "    * __gUiDo vAn rOsSuM__"
   ]
  },
  {
   "cell_type": "code",
   "execution_count": null,
   "id": "572f245c-8f7c-4362-b9cb-23566299a3de",
   "metadata": {},
   "outputs": [],
   "source": [
    "# human\n",
    "# 1. tell me a sentence/phrase/etc. \n",
    "# 2. write that sentence/phrase/etc. on whiteboard but make first letter\n",
    "#    lower case, second letter upper case, third letter lower case, etc.\n",
    "# (in other words alternate case, starting with lower, then upper, etc.)"
   ]
  },
  {
   "cell_type": "code",
   "execution_count": null,
   "id": "d4fd64b6-12c6-4f0b-ada8-536af778e937",
   "metadata": {},
   "outputs": [],
   "source": [
    "# pseudocode\n",
    "# 1. get a sentence from user\n",
    "# 2. for each letter/char of the sentence:\n",
    "# 3.    if index of letter is ODD, print the letter in lower case\n",
    "# 4.    else (EVEN), print the letter in upper case"
   ]
  },
  {
   "cell_type": "code",
   "execution_count": 209,
   "id": "7ac1becd-8eb2-4b90-974b-c7684c63522e",
   "metadata": {},
   "outputs": [
    {
     "name": "stdin",
     "output_type": "stream",
     "text": [
      "Enter:  Guido van Rossum\n"
     ]
    },
    {
     "name": "stdout",
     "output_type": "stream",
     "text": [
      "gUiDo vAn rOsSuM"
     ]
    }
   ],
   "source": [
    "sentence = input('Enter: ') # 1\n",
    "for index in range(0, len(sentence)): # 2 \n",
    "    if index % 2 == 0: # 3, EVEN\n",
    "        print(sentence[index].lower(), end='') # 3\n",
    "    else: # 4\n",
    "        print(sentence[index].upper(), end='') # 4"
   ]
  },
  {
   "cell_type": "code",
   "execution_count": 210,
   "id": "1e26ff6b-690b-41f7-9dab-355a1e117b87",
   "metadata": {},
   "outputs": [],
   "source": [
    "# or...\n",
    "# 1. get a sentence from user\n",
    "# 1a. \"do_next\" will tell us what to do for next letter, set it to \"lower\"\n",
    "# 2. for each letter/char of the sentence:\n",
    "# 3.    if do_next is \"lower\":\n",
    "# 4.       print letter as lower case\n",
    "# 5.       set do_next to \"upper\"\n",
    "# 6.    else (upper)\n",
    "# 7.       print letter as upper case\n",
    "# 8.       set do_next to \"lower\""
   ]
  },
  {
   "cell_type": "code",
   "execution_count": null,
   "id": "f6458b3e-68a9-453e-a606-d2f41ab70b2a",
   "metadata": {},
   "outputs": [],
   "source": []
  }
 ],
 "metadata": {
  "kernelspec": {
   "display_name": "Python 3 (ipykernel)",
   "language": "python",
   "name": "python3"
  },
  "language_info": {
   "codemirror_mode": {
    "name": "ipython",
    "version": 3
   },
   "file_extension": ".py",
   "mimetype": "text/x-python",
   "name": "python",
   "nbconvert_exporter": "python",
   "pygments_lexer": "ipython3",
   "version": "3.12.5"
  }
 },
 "nbformat": 4,
 "nbformat_minor": 5
}
